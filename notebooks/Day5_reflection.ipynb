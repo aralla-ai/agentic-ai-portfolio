{
 "cells": [
  {
   "cell_type": "code",
   "execution_count": 1,
   "id": "6e695576-d10b-45ed-9f80-3c02c9ea499f",
   "metadata": {},
   "outputs": [
    {
     "data": {
      "text/html": [
       "<div>\n",
       "<style scoped>\n",
       "    .dataframe tbody tr th:only-of-type {\n",
       "        vertical-align: middle;\n",
       "    }\n",
       "\n",
       "    .dataframe tbody tr th {\n",
       "        vertical-align: top;\n",
       "    }\n",
       "\n",
       "    .dataframe thead th {\n",
       "        text-align: right;\n",
       "    }\n",
       "</style>\n",
       "<table border=\"1\" class=\"dataframe\">\n",
       "  <thead>\n",
       "    <tr style=\"text-align: right;\">\n",
       "      <th></th>\n",
       "      <th>Open</th>\n",
       "      <th>High</th>\n",
       "      <th>Low</th>\n",
       "      <th>Close</th>\n",
       "      <th>Volume</th>\n",
       "      <th>SMA_10</th>\n",
       "      <th>SMA_50</th>\n",
       "      <th>SMA_200</th>\n",
       "      <th>Volatility_30</th>\n",
       "      <th>RSI_14</th>\n",
       "      <th>BB_MID</th>\n",
       "      <th>BB_UPPER</th>\n",
       "      <th>BB_LOWER</th>\n",
       "      <th>ATR_14</th>\n",
       "      <th>Signal</th>\n",
       "      <th>Position</th>\n",
       "      <th>Return</th>\n",
       "      <th>Strategy_Return</th>\n",
       "    </tr>\n",
       "    <tr>\n",
       "      <th>Price</th>\n",
       "      <th></th>\n",
       "      <th></th>\n",
       "      <th></th>\n",
       "      <th></th>\n",
       "      <th></th>\n",
       "      <th></th>\n",
       "      <th></th>\n",
       "      <th></th>\n",
       "      <th></th>\n",
       "      <th></th>\n",
       "      <th></th>\n",
       "      <th></th>\n",
       "      <th></th>\n",
       "      <th></th>\n",
       "      <th></th>\n",
       "      <th></th>\n",
       "      <th></th>\n",
       "      <th></th>\n",
       "    </tr>\n",
       "  </thead>\n",
       "  <tbody>\n",
       "    <tr>\n",
       "      <th>2024-12-26</th>\n",
       "      <td>257.276679</td>\n",
       "      <td>259.179926</td>\n",
       "      <td>256.718662</td>\n",
       "      <td>258.103729</td>\n",
       "      <td>27237100.0</td>\n",
       "      <td>251.649666</td>\n",
       "      <td>235.495564</td>\n",
       "      <td>211.097456</td>\n",
       "      <td>0.008575</td>\n",
       "      <td>76.452850</td>\n",
       "      <td>246.616033</td>\n",
       "      <td>259.723060</td>\n",
       "      <td>233.509006</td>\n",
       "      <td>4.107561</td>\n",
       "      <td>1</td>\n",
       "      <td>1.0</td>\n",
       "      <td>0.003176</td>\n",
       "      <td>0.003176</td>\n",
       "    </tr>\n",
       "    <tr>\n",
       "      <th>2024-12-27</th>\n",
       "      <td>256.917949</td>\n",
       "      <td>257.784897</td>\n",
       "      <td>252.164833</td>\n",
       "      <td>254.685883</td>\n",
       "      <td>42355300.0</td>\n",
       "      <td>252.409964</td>\n",
       "      <td>235.975156</td>\n",
       "      <td>211.521336</td>\n",
       "      <td>0.009190</td>\n",
       "      <td>67.626275</td>\n",
       "      <td>247.645379</td>\n",
       "      <td>259.813298</td>\n",
       "      <td>235.477460</td>\n",
       "      <td>4.350269</td>\n",
       "      <td>1</td>\n",
       "      <td>1.0</td>\n",
       "      <td>-0.013242</td>\n",
       "      <td>-0.013242</td>\n",
       "    </tr>\n",
       "    <tr>\n",
       "      <th>2024-12-30</th>\n",
       "      <td>251.337769</td>\n",
       "      <td>252.603281</td>\n",
       "      <td>249.863009</td>\n",
       "      <td>251.307877</td>\n",
       "      <td>35557500.0</td>\n",
       "      <td>252.815524</td>\n",
       "      <td>236.379822</td>\n",
       "      <td>211.919042</td>\n",
       "      <td>0.009546</td>\n",
       "      <td>60.225586</td>\n",
       "      <td>248.386249</td>\n",
       "      <td>259.448570</td>\n",
       "      <td>237.323927</td>\n",
       "      <td>4.304004</td>\n",
       "      <td>1</td>\n",
       "      <td>1.0</td>\n",
       "      <td>-0.013263</td>\n",
       "      <td>-0.013263</td>\n",
       "    </tr>\n",
       "  </tbody>\n",
       "</table>\n",
       "</div>"
      ],
      "text/plain": [
       "                  Open        High         Low       Close      Volume  \\\n",
       "Price                                                                    \n",
       "2024-12-26  257.276679  259.179926  256.718662  258.103729  27237100.0   \n",
       "2024-12-27  256.917949  257.784897  252.164833  254.685883  42355300.0   \n",
       "2024-12-30  251.337769  252.603281  249.863009  251.307877  35557500.0   \n",
       "\n",
       "                SMA_10      SMA_50     SMA_200  Volatility_30     RSI_14  \\\n",
       "Price                                                                      \n",
       "2024-12-26  251.649666  235.495564  211.097456       0.008575  76.452850   \n",
       "2024-12-27  252.409964  235.975156  211.521336       0.009190  67.626275   \n",
       "2024-12-30  252.815524  236.379822  211.919042       0.009546  60.225586   \n",
       "\n",
       "                BB_MID    BB_UPPER    BB_LOWER    ATR_14  Signal  Position  \\\n",
       "Price                                                                        \n",
       "2024-12-26  246.616033  259.723060  233.509006  4.107561       1       1.0   \n",
       "2024-12-27  247.645379  259.813298  235.477460  4.350269       1       1.0   \n",
       "2024-12-30  248.386249  259.448570  237.323927  4.304004       1       1.0   \n",
       "\n",
       "              Return  Strategy_Return  \n",
       "Price                                  \n",
       "2024-12-26  0.003176         0.003176  \n",
       "2024-12-27 -0.013242        -0.013242  \n",
       "2024-12-30 -0.013263        -0.013263  "
      ]
     },
     "execution_count": 1,
     "metadata": {},
     "output_type": "execute_result"
    }
   ],
   "source": [
    "import pandas as pd\n",
    "\n",
    "data = pd.read_csv(\"../data/AAPL_backtest.csv\", index_col=0, parse_dates=True)\n",
    "data.tail(3)\n"
   ]
  },
  {
   "cell_type": "code",
   "execution_count": 2,
   "id": "f0f09e0e-9528-4d30-a6b0-087d2504b8f0",
   "metadata": {},
   "outputs": [
    {
     "data": {
      "text/plain": [
       "{'CAGR': np.float64(0.04537456477983004),\n",
       " 'Volatility': np.float64(0.16433131022232675),\n",
       " 'Sharpe': np.float64(0.3546885590564063),\n",
       " 'MaxDD': np.float64(-0.08671305577045663)}"
      ]
     },
     "execution_count": 2,
     "metadata": {},
     "output_type": "execute_result"
    }
   ],
   "source": [
    "#This checks metrics and gives feedback.\n",
    "\n",
    "import numpy as np\n",
    "\n",
    "def compute_metrics(df):\n",
    "    strat_curve = (1 + df[\"Strategy_Return\"]).cumprod()\n",
    "    years = (df.index[-1] - df.index[0]).days / 365.25\n",
    "    cagr = strat_curve.iloc[-1]**(1/years) - 1\n",
    "    vol = df[\"Strategy_Return\"].std() * np.sqrt(252)\n",
    "    sharpe = (df[\"Strategy_Return\"].mean() * 252) / (df[\"Strategy_Return\"].std() * np.sqrt(252))\n",
    "    roll_max = strat_curve.cummax()\n",
    "    dd = (strat_curve / roll_max - 1).min()\n",
    "    return {\"CAGR\": cagr, \"Volatility\": vol, \"Sharpe\": sharpe, \"MaxDD\": dd}\n",
    "\n",
    "metrics = compute_metrics(data)\n",
    "metrics\n",
    "\n"
   ]
  },
  {
   "cell_type": "code",
   "execution_count": 3,
   "id": "08f3294d-afbf-4372-89ee-0887c37c864d",
   "metadata": {},
   "outputs": [
    {
     "data": {
      "text/plain": [
       "['Sharpe too low — consider reducing risk exposure or adding filters.']"
      ]
     },
     "execution_count": 3,
     "metadata": {},
     "output_type": "execute_result"
    }
   ],
   "source": [
    "def reflect_and_replan(metrics, sharpe_min=1.0, max_dd=-0.25):\n",
    "    decisions = []\n",
    "    if metrics[\"Sharpe\"] < sharpe_min:\n",
    "        decisions.append(\"Sharpe too low — consider reducing risk exposure or adding filters.\")\n",
    "    if metrics[\"MaxDD\"] < max_dd:\n",
    "        decisions.append(\"Drawdown exceeded limit — strategy too aggressive.\")\n",
    "    if not decisions:\n",
    "        decisions.append(\"Strategy acceptable. No changes needed.\")\n",
    "    return decisions\n",
    "\n",
    "reflection_notes = reflect_and_replan(metrics)\n",
    "reflection_notes\n"
   ]
  },
  {
   "cell_type": "code",
   "execution_count": 4,
   "id": "bb093432-635f-422e-99f8-c158ceeffa4a",
   "metadata": {},
   "outputs": [
    {
     "name": "stdout",
     "output_type": "stream",
     "text": [
      "Reflection notes saved to /logs/reflection_day5.txt\n"
     ]
    }
   ],
   "source": [
    "import os\n",
    "from datetime import datetime\n",
    "\n",
    "os.makedirs(\"../logs\", exist_ok=True)\n",
    "with open(\"../logs/reflection_day5.txt\", \"w\") as f:\n",
    "    f.write(f\"Reflection run {datetime.now()}\\n\")\n",
    "    f.write(f\"Metrics: {metrics}\\n\")\n",
    "    for note in reflection_notes:\n",
    "        f.write(f\"- {note}\\n\")\n",
    "\n",
    "print(\"Reflection notes saved to /logs/reflection_day5.txt\")\n"
   ]
  },
  {
   "cell_type": "code",
   "execution_count": 5,
   "id": "af2fd913-7f87-4839-859d-e8c31349c794",
   "metadata": {},
   "outputs": [
    {
     "name": "stdout",
     "output_type": "stream",
     "text": [
      "\n",
      "Reflection Report (2025-09-16):\n",
      "- CAGR: 4.54%\n",
      "- Volatility: 16.43%\n",
      "- Sharpe: 0.35\n",
      "- Max Drawdown: -8.67%\n",
      "\n",
      "Notes:\n",
      "Sharpe too low — consider reducing risk exposure or adding filters.\n",
      "\n"
     ]
    }
   ],
   "source": [
    "summary = f\"\"\"\n",
    "Reflection Report ({datetime.today().date()}):\n",
    "- CAGR: {metrics['CAGR']:.2%}\n",
    "- Volatility: {metrics['Volatility']:.2%}\n",
    "- Sharpe: {metrics['Sharpe']:.2f}\n",
    "- Max Drawdown: {metrics['MaxDD']:.2%}\n",
    "\n",
    "Notes:\n",
    "{'; '.join(reflection_notes)}\n",
    "\"\"\"\n",
    "\n",
    "print(summary)\n"
   ]
  },
  {
   "cell_type": "code",
   "execution_count": null,
   "id": "98d4c822-87cf-47e6-bb1a-ceb879c79462",
   "metadata": {},
   "outputs": [],
   "source": []
  }
 ],
 "metadata": {
  "kernelspec": {
   "display_name": "Python 3 (ipykernel)",
   "language": "python",
   "name": "python3"
  },
  "language_info": {
   "codemirror_mode": {
    "name": "ipython",
    "version": 3
   },
   "file_extension": ".py",
   "mimetype": "text/x-python",
   "name": "python",
   "nbconvert_exporter": "python",
   "pygments_lexer": "ipython3",
   "version": "3.13.7"
  }
 },
 "nbformat": 4,
 "nbformat_minor": 5
}
