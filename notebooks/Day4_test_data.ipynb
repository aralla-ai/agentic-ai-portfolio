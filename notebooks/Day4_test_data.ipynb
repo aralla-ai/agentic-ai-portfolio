{
 "cells": [
  {
   "cell_type": "code",
   "execution_count": 1,
   "id": "08a2a1d5-c922-4725-b16c-651ecd55884f",
   "metadata": {},
   "outputs": [
    {
     "name": "stderr",
     "output_type": "stream",
     "text": [
      "C:\\Users\\adity\\AppData\\Local\\Temp\\ipykernel_20036\\127431850.py:5: FutureWarning: YF.download() has changed argument auto_adjust default to True\n",
      "  data = yf.download(\"AAPL\", start=\"2024-01-01\", end=\"2024-12-31\")\n",
      "[*********************100%***********************]  1 of 1 completed"
     ]
    },
    {
     "name": "stdout",
     "output_type": "stream",
     "text": [
      "Price            Close        High         Low        Open    Volume\n",
      "Ticker            AAPL        AAPL        AAPL        AAPL      AAPL\n",
      "Date                                                                \n",
      "2024-01-02  184.081497  186.857993  182.346189  185.578815  82488700\n",
      "2024-01-03  182.703171  184.319491  181.890048  182.673424  58414500\n",
      "2024-01-04  180.382828  181.552914  179.361476  180.620803  71983600\n",
      "2024-01-05  179.658951  181.225688  178.657435  180.462163  62379700\n",
      "2024-01-08  184.002182  184.041855  179.976269  180.561312  59144500\n",
      "\n",
      "Saved sample data to data/AAPL_sample.csv\n"
     ]
    },
    {
     "name": "stderr",
     "output_type": "stream",
     "text": [
      "\n"
     ]
    }
   ],
   "source": [
    "import pandas as pd\n",
    "import yfinance as yf\n",
    "\n",
    "# Pull 1 year of Apple stock data\n",
    "data = yf.download(\"AAPL\", start=\"2024-01-01\", end=\"2024-12-31\")\n",
    "\n",
    "# Show first 5 rows\n",
    "print(data.head())\n",
    "\n",
    "# Save locally in /data\n",
    "data.to_csv(\"../data/AAPL_sample.csv\")\n",
    "\n",
    "print(\"\\nSaved sample data to data/AAPL_sample.csv\")\n"
   ]
  },
  {
   "cell_type": "code",
   "execution_count": null,
   "id": "e328a2aa-1a18-4ba5-bca5-cbce187b6b02",
   "metadata": {},
   "outputs": [],
   "source": []
  }
 ],
 "metadata": {
  "kernelspec": {
   "display_name": "Python 3 (ipykernel)",
   "language": "python",
   "name": "python3"
  },
  "language_info": {
   "codemirror_mode": {
    "name": "ipython",
    "version": 3
   },
   "file_extension": ".py",
   "mimetype": "text/x-python",
   "name": "python",
   "nbconvert_exporter": "python",
   "pygments_lexer": "ipython3",
   "version": "3.13.7"
  }
 },
 "nbformat": 4,
 "nbformat_minor": 5
}
