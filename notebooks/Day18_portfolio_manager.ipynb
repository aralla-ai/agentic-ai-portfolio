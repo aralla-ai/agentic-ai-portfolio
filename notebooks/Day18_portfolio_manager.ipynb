{
 "cells": [
  {
   "cell_type": "code",
   "execution_count": 1,
   "id": "af780220-1b23-4a74-9355-76ad7ee5338a",
   "metadata": {},
   "outputs": [],
   "source": [
    "import sys, os\n",
    "sys.path.append(\"..\")\n",
    "\n",
    "import pandas as pd\n",
    "import numpy as np\n",
    "\n",
    "from agents import StrategyAgent, RiskAgent, AllocatorAgent, ReflectionAgent, MemoryAgent\n"
   ]
  },
  {
   "cell_type": "markdown",
   "id": "31696390-7ad9-40c0-bf41-f728ac9acb29",
   "metadata": {},
   "source": [
    "Portfolio Manager Agent\n",
    "Starts the workflow.\n",
    "\n",
    "Calls StrategyAgent to propose.\n",
    "\n",
    "Uses RiskAgent to filter.\n",
    "\n",
    "Uses AllocatorAgent to build portfolio.\n",
    "\n",
    "If fail → asks ReflectionAgent to adjust parameters.\n",
    "\n",
    "Uses MemoryAgent to avoid repeating mistakes.\n",
    "\n",
    "Returns final decision + logs."
   ]
  },
  {
   "cell_type": "code",
   "execution_count": 3,
   "id": "d3abb012-55a9-4565-933b-ea5c8cb722fd",
   "metadata": {},
   "outputs": [],
   "source": [
    "class PortfolioManagerAgent:\n",
    "    def __init__(self, data, max_attempts=5):\n",
    "        self.data = data\n",
    "        self.max_attempts = max_attempts\n",
    "        self.memory = MemoryAgent()\n",
    "        self.reflection = ReflectionAgent()\n",
    "        self.risk = RiskAgent(sharpe_min=1.0, max_dd=-0.25, vol_max=0.3)\n",
    "    \n",
    "    def compute_metrics(self, df):\n",
    "        col = \"Strategy_Return\" if \"Strategy_Return\" in df.columns else \"Portfolio_Return\"\n",
    "        returns = df[col].fillna(0)\n",
    "        strat_curve = (1 + returns).cumprod()\n",
    "        years = (returns.index[-1] - returns.index[0]).days / 365.25\n",
    "        cagr = strat_curve.iloc[-1]**(1/years) - 1 if years > 0 else 0\n",
    "        vol = returns.std() * np.sqrt(252)\n",
    "        sharpe = (returns.mean() * 252) / (returns.std() * np.sqrt(252)) if returns.std() > 0 else 0\n",
    "        roll_max = strat_curve.cummax()\n",
    "        dd = (strat_curve / roll_max - 1).min()\n",
    "        return {\"CAGR\": cagr, \"Volatility\": vol, \"Sharpe\": sharpe, \"MaxDD\": dd}\n",
    "    \n",
    "    def run(self):\n",
    "        attempt = 0\n",
    "        decision = \"FAIL\"\n",
    "        portfolio = None\n",
    "        alloc_method = \"sharpe\"\n",
    "        sma_fast, sma_slow = 10, 50\n",
    "        rsi_lower, rsi_upper = 30, 70\n",
    "        reflections = []\n",
    "        \n",
    "        while attempt < self.max_attempts and decision == \"FAIL\":\n",
    "            attempt += 1\n",
    "            print(f\"\\n=== Attempt {attempt} ===\")\n",
    "            \n",
    "            # Step 1: Strategies\n",
    "            sa = StrategyAgent(self.data)\n",
    "            strategies = {\n",
    "                \"SMA\": sa.sma_crossover(fast=sma_fast, slow=sma_slow),\n",
    "                \"RSI\": sa.rsi_strategy(lower=rsi_lower, upper=rsi_upper),\n",
    "                \"BB\": sa.bollinger_breakout()\n",
    "            }\n",
    "            \n",
    "            # Step 2: Metrics\n",
    "            metrics = {n: self.compute_metrics(df) for n, df in strategies.items()}\n",
    "            \n",
    "            # Step 3: Risk check\n",
    "            assessments = {n: self.risk.assess(m) for n, m in metrics.items()}\n",
    "            \n",
    "            # Step 4: Allocation\n",
    "            alloc = AllocatorAgent(method=alloc_method)\n",
    "            weights, portfolio = alloc.allocate(strategies, metrics, assessments)\n",
    "            \n",
    "            if portfolio is None:\n",
    "                print(\"No portfolio created, skipping to next attempt.\")\n",
    "                continue\n",
    "            \n",
    "            # Step 5: Portfolio-level risk\n",
    "            portfolio_metrics = self.compute_metrics(portfolio)\n",
    "            portfolio_assessment = self.risk.assess(portfolio_metrics)\n",
    "            print(\"Portfolio metrics:\", portfolio_metrics)\n",
    "            print(\"Assessment:\", portfolio_assessment)\n",
    "            \n",
    "            decision = portfolio_assessment[\"Decision\"]\n",
    "            \n",
    "            # Memory logging\n",
    "            for n, m in metrics.items():\n",
    "                self.memory.record(n, m, assessments[n])\n",
    "            self.memory.record(\"PORTFOLIO\", portfolio_metrics, portfolio_assessment)\n",
    "            \n",
    "            # Reflection if fail\n",
    "            if decision == \"FAIL\":\n",
    "                feedback = self.reflection.reflect(portfolio_assessment)\n",
    "                reflections.append(feedback)\n",
    "                print(\"Reflection:\", feedback)\n",
    "                \n",
    "                if \"sma_slow\" in feedback[\"New_Params\"]:\n",
    "                    sma_slow = feedback[\"New_Params\"][\"sma_slow\"]\n",
    "                if \"rsi_lower\" in feedback[\"New_Params\"]:\n",
    "                    rsi_lower = feedback[\"New_Params\"][\"rsi_lower\"]\n",
    "                if \"rsi_upper\" in feedback[\"New_Params\"]:\n",
    "                    rsi_upper = feedback[\"New_Params\"][\"rsi_upper\"]\n",
    "                if \"allocation\" in feedback[\"New_Params\"]:\n",
    "                    alloc_method = feedback[\"New_Params\"][\"allocation\"]\n",
    "        \n",
    "        return portfolio, decision, reflections, self.memory\n"
   ]
  },
  {
   "cell_type": "code",
   "execution_count": 4,
   "id": "edfbd5e2-d3e4-41af-a618-b123d3e73f4c",
   "metadata": {},
   "outputs": [
    {
     "name": "stdout",
     "output_type": "stream",
     "text": [
      "\n",
      "=== Attempt 1 ===\n",
      "Portfolio metrics: {'CAGR': np.float64(0.13984910882294188), 'Volatility': np.float64(0.04382244081992633), 'Sharpe': np.float64(2.9944674019850326), 'MaxDD': np.float64(-0.007035576834644064)}\n",
      "Assessment: {'Decision': 'PASS', 'Notes': ['All risk checks passed']}\n",
      "\n",
      "Final Decision: PASS\n",
      "Reflections: []\n",
      "Memory size: 4\n"
     ]
    },
    {
     "data": {
      "image/png": "[encoded data removed]",
      "text/plain": [
       "<Figure size 1000x500 with 1 Axes>"
      ]
     },
     "metadata": {},
     "output_type": "display_data"
    }
   ],
   "source": [
    "data = pd.read_csv(\"../data/AAPL_enriched.csv\", index_col=0, parse_dates=True)\n",
    "\n",
    "pm = PortfolioManagerAgent(data)\n",
    "portfolio, decision, reflections, memory = pm.run()\n",
    "\n",
    "print(\"\\nFinal Decision:\", decision)\n",
    "print(\"Reflections:\", reflections)\n",
    "print(\"Memory size:\", len(memory.history))\n",
    "\n",
    "if portfolio is not None:\n",
    "    portfolio[[\"Cumulative\"]].plot(title=\"Day 18 - Portfolio Manager\", figsize=(10,5))\n"
   ]
  },
  {
   "cell_type": "code",
   "execution_count": 5,
   "id": "bd546da9-d91c-4910-a17a-e85be91f1ab4",
   "metadata": {},
   "outputs": [],
   "source": [
    "os.makedirs(\"../logs\", exist_ok=True)\n",
    "\n",
    "portfolio.to_csv(\"../logs/Day18_portfolio.csv\")\n",
    "memory.export(\"../logs/Day18_memory.csv\")\n",
    "\n",
    "with open(\"../logs/Day18_summary.txt\", \"w\") as f:\n",
    "    f.write(\"Day 18 run with PortfolioManagerAgent\\n\")\n",
    "    f.write(f\"Decision: {decision}\\n\")\n",
    "    f.write(\"Reflections:\\n\")\n",
    "    for r in reflections:\n",
    "        f.write(str(r) + \"\\n\")\n"
   ]
  },
  {
   "cell_type": "code",
   "execution_count": null,
   "id": "444c62ba-f848-404d-bbde-a203df77abe4",
   "metadata": {},
   "outputs": [],
   "source": []
  }
 ],
 "metadata": {
  "kernelspec": {
   "display_name": "Python 3 (ipykernel)",
   "language": "python",
   "name": "python3"
  },
  "language_info": {
   "codemirror_mode": {
    "name": "ipython",
    "version": 3
   },
   "file_extension": ".py",
   "mimetype": "text/x-python",
   "name": "python",
   "nbconvert_exporter": "python",
   "pygments_lexer": "ipython3",
   "version": "3.13.7"
  }
 },
 "nbformat": 4,
 "nbformat_minor": 5
}
