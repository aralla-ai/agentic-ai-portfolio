{
 "cells": [
  {
   "cell_type": "markdown",
   "id": "f28b2d43-7229-4eba-bc89-e85aaf9c72b9",
   "metadata": {},
   "source": [
    "Here we load our tools: Pandas for data, NumPy for math, and our two agents."
   ]
  },
  {
   "cell_type": "code",
   "execution_count": 1,
   "id": "f6cd2a53-2b36-40ae-ac79-a00281a8aa6f",
   "metadata": {},
   "outputs": [],
   "source": [
    "import sys\n",
    "sys.path.append(\"../src\")\n",
    "\n",
    "import pandas as pd\n",
    "import numpy as np\n",
    "\n",
    "from strategy_agent import StrategyAgent\n",
    "from risk_agent import RiskAgent\n"
   ]
  },
  {
   "cell_type": "markdown",
   "id": "eaf1f49d-37c9-42c9-bd6d-aa5d00feec4f",
   "metadata": {},
   "source": [
    "We’ll test on Apple’s enriched dataset again."
   ]
  },
  {
   "cell_type": "code",
   "execution_count": 2,
   "id": "967f4aa9-1dd4-4c6b-9556-1eadd7fbbbcf",
   "metadata": {},
   "outputs": [],
   "source": [
    "data = pd.read_csv(\"../data/AAPL_enriched.csv\", index_col=0, parse_dates=True)\n"
   ]
  },
  {
   "cell_type": "markdown",
   "id": "6eaf8589-3a67-47db-a1d3-4aa26d7ed26f",
   "metadata": {},
   "source": [
    "This computes CAGR, volatility, Sharpe, and drawdown — the KPIs RiskAgent needs."
   ]
  },
  {
   "cell_type": "code",
   "execution_count": 3,
   "id": "0cbda356-a57f-49a9-b7f7-acef0064dbb6",
   "metadata": {},
   "outputs": [],
   "source": [
    "def compute_metrics(df):\n",
    "    strat_curve = (1 + df[\"Strategy_Return\"]).cumprod()\n",
    "    years = (df.index[-1] - df.index[0]).days / 365.25\n",
    "    cagr = strat_curve.iloc[-1]**(1/years) - 1\n",
    "    vol = df[\"Strategy_Return\"].std() * np.sqrt(252)\n",
    "    sharpe = (df[\"Strategy_Return\"].mean() * 252) / (df[\"Strategy_Return\"].std() * np.sqrt(252))\n",
    "    roll_max = strat_curve.cummax()\n",
    "    dd = (strat_curve / roll_max - 1).min()\n",
    "    return {\"CAGR\": cagr, \"Volatility\": vol, \"Sharpe\": sharpe, \"MaxDD\": dd}\n"
   ]
  },
  {
   "cell_type": "markdown",
   "id": "2b247472-70f4-49e6-8ea8-6156dce9ef1f",
   "metadata": {},
   "source": [
    "The StrategyAgent generates signals/returns for SMA, RSI, and Bollinger."
   ]
  },
  {
   "cell_type": "code",
   "execution_count": 4,
   "id": "13f3fe07-39b9-43f5-a022-00ec8b0040ad",
   "metadata": {},
   "outputs": [],
   "source": [
    "agent = StrategyAgent(data)\n",
    "\n",
    "sma_res = agent.sma_crossover()\n",
    "rsi_res = agent.rsi_strategy()\n",
    "bb_res = agent.bollinger_breakout()\n"
   ]
  },
  {
   "cell_type": "markdown",
   "id": "842fad4c-95e2-42f9-a141-45cf4be2785f",
   "metadata": {},
   "source": [
    "We compute metrics for each strategy separately so RiskAgent can judge them."
   ]
  },
  {
   "cell_type": "code",
   "execution_count": 5,
   "id": "bffacf66-7491-4b87-b85a-a71381657004",
   "metadata": {},
   "outputs": [
    {
     "data": {
      "text/html": [
       "<div>\n",
       "<style scoped>\n",
       "    .dataframe tbody tr th:only-of-type {\n",
       "        vertical-align: middle;\n",
       "    }\n",
       "\n",
       "    .dataframe tbody tr th {\n",
       "        vertical-align: top;\n",
       "    }\n",
       "\n",
       "    .dataframe thead th {\n",
       "        text-align: right;\n",
       "    }\n",
       "</style>\n",
       "<table border=\"1\" class=\"dataframe\">\n",
       "  <thead>\n",
       "    <tr style=\"text-align: right;\">\n",
       "      <th></th>\n",
       "      <th>CAGR</th>\n",
       "      <th>Volatility</th>\n",
       "      <th>Sharpe</th>\n",
       "      <th>MaxDD</th>\n",
       "    </tr>\n",
       "  </thead>\n",
       "  <tbody>\n",
       "    <tr>\n",
       "      <th>SMA Crossover</th>\n",
       "      <td>-0.121856</td>\n",
       "      <td>0.041243</td>\n",
       "      <td>-3.175536</td>\n",
       "      <td>-0.026330</td>\n",
       "    </tr>\n",
       "    <tr>\n",
       "      <th>RSI</th>\n",
       "      <td>-0.126123</td>\n",
       "      <td>0.082338</td>\n",
       "      <td>-1.620564</td>\n",
       "      <td>-0.043275</td>\n",
       "    </tr>\n",
       "    <tr>\n",
       "      <th>Bollinger</th>\n",
       "      <td>0.139849</td>\n",
       "      <td>0.044243</td>\n",
       "      <td>3.024177</td>\n",
       "      <td>-0.007036</td>\n",
       "    </tr>\n",
       "  </tbody>\n",
       "</table>\n",
       "</div>"
      ],
      "text/plain": [
       "                   CAGR  Volatility    Sharpe     MaxDD\n",
       "SMA Crossover -0.121856    0.041243 -3.175536 -0.026330\n",
       "RSI           -0.126123    0.082338 -1.620564 -0.043275\n",
       "Bollinger      0.139849    0.044243  3.024177 -0.007036"
      ]
     },
     "execution_count": 5,
     "metadata": {},
     "output_type": "execute_result"
    }
   ],
   "source": [
    "strategies = {\n",
    "    \"SMA Crossover\": sma_res,\n",
    "    \"RSI\": rsi_res,\n",
    "    \"Bollinger\": bb_res\n",
    "}\n",
    "\n",
    "metrics_results = {name: compute_metrics(df) for name, df in strategies.items()}\n",
    "pd.DataFrame(metrics_results).T\n"
   ]
  },
  {
   "cell_type": "markdown",
   "id": "64dbbe33-dbb7-484d-8888-741a7a7f43dd",
   "metadata": {},
   "source": [
    "RiskAgent reviews each strategy’s metrics, applies thresholds, and flags pass/fail with notes."
   ]
  },
  {
   "cell_type": "code",
   "execution_count": 6,
   "id": "92cfe1d6-b274-498c-b471-053cd9723fec",
   "metadata": {},
   "outputs": [
    {
     "data": {
      "text/plain": [
       "{'SMA Crossover': {'Decision': 'FAIL',\n",
       "  'Notes': ['Sharpe too low (-3.18 < 1.0)']},\n",
       " 'RSI': {'Decision': 'FAIL', 'Notes': ['Sharpe too low (-1.62 < 1.0)']},\n",
       " 'Bollinger': {'Decision': 'PASS', 'Notes': ['All risk checks passed']}}"
      ]
     },
     "execution_count": 6,
     "metadata": {},
     "output_type": "execute_result"
    }
   ],
   "source": [
    "risk = RiskAgent(sharpe_min=1.0, max_dd=-0.25, vol_max=0.3)\n",
    "\n",
    "risk_assessments = {}\n",
    "for name, m in metrics_results.items():\n",
    "    risk_assessments[name] = risk.assess(m)\n",
    "\n",
    "risk_assessments\n"
   ]
  },
  {
   "cell_type": "markdown",
   "id": "6a66fcfa-3c23-40e1-9f14-1a1a3b17743e",
   "metadata": {},
   "source": [
    "We combine everything into a single DataFrame — one row per strategy, with both numbers and pass/fail notes."
   ]
  },
  {
   "cell_type": "code",
   "execution_count": 7,
   "id": "61e8b3c0-9e8e-47dc-a400-9b3a75ee6e00",
   "metadata": {},
   "outputs": [
    {
     "data": {
      "text/html": [
       "<div>\n",
       "<style scoped>\n",
       "    .dataframe tbody tr th:only-of-type {\n",
       "        vertical-align: middle;\n",
       "    }\n",
       "\n",
       "    .dataframe tbody tr th {\n",
       "        vertical-align: top;\n",
       "    }\n",
       "\n",
       "    .dataframe thead th {\n",
       "        text-align: right;\n",
       "    }\n",
       "</style>\n",
       "<table border=\"1\" class=\"dataframe\">\n",
       "  <thead>\n",
       "    <tr style=\"text-align: right;\">\n",
       "      <th></th>\n",
       "      <th>Strategy</th>\n",
       "      <th>CAGR</th>\n",
       "      <th>Volatility</th>\n",
       "      <th>Sharpe</th>\n",
       "      <th>MaxDD</th>\n",
       "      <th>Decision</th>\n",
       "      <th>Notes</th>\n",
       "    </tr>\n",
       "  </thead>\n",
       "  <tbody>\n",
       "    <tr>\n",
       "      <th>0</th>\n",
       "      <td>SMA Crossover</td>\n",
       "      <td>-0.121856</td>\n",
       "      <td>0.041243</td>\n",
       "      <td>-3.175536</td>\n",
       "      <td>-0.026330</td>\n",
       "      <td>FAIL</td>\n",
       "      <td>Sharpe too low (-3.18 &lt; 1.0)</td>\n",
       "    </tr>\n",
       "    <tr>\n",
       "      <th>1</th>\n",
       "      <td>RSI</td>\n",
       "      <td>-0.126123</td>\n",
       "      <td>0.082338</td>\n",
       "      <td>-1.620564</td>\n",
       "      <td>-0.043275</td>\n",
       "      <td>FAIL</td>\n",
       "      <td>Sharpe too low (-1.62 &lt; 1.0)</td>\n",
       "    </tr>\n",
       "    <tr>\n",
       "      <th>2</th>\n",
       "      <td>Bollinger</td>\n",
       "      <td>0.139849</td>\n",
       "      <td>0.044243</td>\n",
       "      <td>3.024177</td>\n",
       "      <td>-0.007036</td>\n",
       "      <td>PASS</td>\n",
       "      <td>All risk checks passed</td>\n",
       "    </tr>\n",
       "  </tbody>\n",
       "</table>\n",
       "</div>"
      ],
      "text/plain": [
       "        Strategy      CAGR  Volatility    Sharpe     MaxDD Decision  \\\n",
       "0  SMA Crossover -0.121856    0.041243 -3.175536 -0.026330     FAIL   \n",
       "1            RSI -0.126123    0.082338 -1.620564 -0.043275     FAIL   \n",
       "2      Bollinger  0.139849    0.044243  3.024177 -0.007036     PASS   \n",
       "\n",
       "                          Notes  \n",
       "0  Sharpe too low (-3.18 < 1.0)  \n",
       "1  Sharpe too low (-1.62 < 1.0)  \n",
       "2        All risk checks passed  "
      ]
     },
     "execution_count": 7,
     "metadata": {},
     "output_type": "execute_result"
    }
   ],
   "source": [
    "final_results = []\n",
    "for name, m in metrics_results.items():\n",
    "    assessment = risk_assessments[name]\n",
    "    final_results.append({\n",
    "        \"Strategy\": name,\n",
    "        **m,\n",
    "        \"Decision\": assessment[\"Decision\"],\n",
    "        \"Notes\": \"; \".join(assessment[\"Notes\"])\n",
    "    })\n",
    "\n",
    "final_df = pd.DataFrame(final_results)\n",
    "final_df\n"
   ]
  },
  {
   "cell_type": "markdown",
   "id": "917bea43-0ace-4fe6-aae5-58bcb2fee0cd",
   "metadata": {},
   "source": [
    "Save results to /logs/Day13_strategy_risk_results.csv so you have an audit trail."
   ]
  },
  {
   "cell_type": "code",
   "execution_count": 8,
   "id": "fc58d311-419d-4735-aecd-98e9ef568558",
   "metadata": {},
   "outputs": [],
   "source": [
    "import os\n",
    "from datetime import datetime\n",
    "\n",
    "os.makedirs(\"../logs\", exist_ok=True)\n",
    "final_df.to_csv(\"../logs/Day13_strategy_risk_results.csv\", index=False)\n",
    "\n",
    "with open(\"../logs/Day13_summary.txt\", \"w\") as f:\n",
    "    f.write(f\"Day 13 run ({datetime.today().date()})\\n\")\n",
    "    f.write(final_df.to_string())\n"
   ]
  },
  {
   "cell_type": "code",
   "execution_count": null,
   "id": "8c001f27-c88c-4648-9a1f-972c627e89f3",
   "metadata": {},
   "outputs": [],
   "source": []
  }
 ],
 "metadata": {
  "kernelspec": {
   "display_name": "Python 3 (ipykernel)",
   "language": "python",
   "name": "python3"
  },
  "language_info": {
   "codemirror_mode": {
    "name": "ipython",
    "version": 3
   },
   "file_extension": ".py",
   "mimetype": "text/x-python",
   "name": "python",
   "nbconvert_exporter": "python",
   "pygments_lexer": "ipython3",
   "version": "3.13.7"
  }
 },
 "nbformat": 4,
 "nbformat_minor": 5
}
