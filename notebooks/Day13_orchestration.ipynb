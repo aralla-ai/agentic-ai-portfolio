{
 "cells": [
  {
   "cell_type": "markdown",
   "id": "f28b2d43-7229-4eba-bc89-e85aaf9c72b9",
   "metadata": {},
   "source": [
    "Here we load our tools: Pandas for data, NumPy for math, and our two agents."
   ]
  },
  {
   "cell_type": "code",
   "execution_count": 1,
   "id": "f6cd2a53-2b36-40ae-ac79-a00281a8aa6f",
   "metadata": {},
   "outputs": [],
   "source": [
    "import sys\n",
    "sys.path.append(\"../src\")\n",
    "\n",
    "import pandas as pd\n",
    "import numpy as np\n",
    "\n",
    "from strategy_agent import StrategyAgent\n",
    "from risk_agent import RiskAgent\n"
   ]
  },
  {
   "cell_type": "markdown",
   "id": "eaf1f49d-37c9-42c9-bd6d-aa5d00feec4f",
   "metadata": {},
   "source": [
    "We’ll test on Apple’s enriched dataset again."
   ]
  },
  {
   "cell_type": "code",
   "execution_count": 2,
   "id": "967f4aa9-1dd4-4c6b-9556-1eadd7fbbbcf",
   "metadata": {},
   "outputs": [],
   "source": [
    "data = pd.read_csv(\"../data/AAPL_enriched.csv\", index_col=0, parse_dates=True)\n"
   ]
  },
  {
   "cell_type": "markdown",
   "id": "6eaf8589-3a67-47db-a1d3-4aa26d7ed26f",
   "metadata": {},
   "source": [
    "This computes CAGR, volatility, Sharpe, and drawdown — the KPIs RiskAgent needs."
   ]
  },
  {
   "cell_type": "code",
   "execution_count": 3,
   "id": "0cbda356-a57f-49a9-b7f7-acef0064dbb6",
   "metadata": {},
   "outputs": [],
   "source": [
    "def compute_metrics(df):\n",
    "    strat_curve = (1 + df[\"Strategy_Return\"]).cumprod()\n",
    "    years = (df.index[-1] - df.index[0]).days / 365.25\n",
    "    cagr = strat_curve.iloc[-1]**(1/years) - 1\n",
    "    vol = df[\"Strategy_Return\"].std() * np.sqrt(252)\n",
    "    sharpe = (df[\"Strategy_Return\"].mean() * 252) / (df[\"Strategy_Return\"].std() * np.sqrt(252))\n",
    "    roll_max = strat_curve.cummax()\n",
    "    dd = (strat_curve / roll_max - 1).min()\n",
    "    return {\"CAGR\": cagr, \"Volatility\": vol, \"Sharpe\": sharpe, \"MaxDD\": dd}\n"
   ]
  },
  {
   "cell_type": "markdown",
   "id": "2b247472-70f4-49e6-8ea8-6156dce9ef1f",
   "metadata": {},
   "source": [
    "The StrategyAgent generates signals/returns for SMA, RSI, and Bollinger."
   ]
  },
  {
   "cell_type": "code",
   "execution_count": 4,
   "id": "13f3fe07-39b9-43f5-a022-00ec8b0040ad",
   "metadata": {},
   "outputs": [],
   "source": [
    "agent = StrategyAgent(data)\n",
    "\n",
    "sma_res = agent.sma_crossover()\n",
    "rsi_res = agent.rsi_strategy()\n",
    "bb_res = agent.bollinger_breakout()\n"
   ]
  },
  {
   "cell_type": "markdown",
   "id": "842fad4c-95e2-42f9-a141-45cf4be2785f",
   "metadata": {},
   "source": [
    "We compute metrics for each strategy separately so RiskAgent can judge them."
   ]
  },
  {
   "cell_type": "code",
   "execution_count": null,
   "id": "bffacf66-7491-4b87-b85a-a71381657004",
   "metadata": {},
   "outputs": [],
   "source": [
    "strategies = {\n",
    "    \"SMA Crossover\": sma_res,\n",
    "    \"RSI\": rsi_res,\n",
    "    \"Bollinger\": bb_res\n",
    "}\n",
    "\n",
    "metrics_results = {name: compute_metrics(df) for name, df in strategies.items()}\n",
    "pd.DataFrame(metrics_results).T\n"
   ]
  }
 ],
 "metadata": {
  "kernelspec": {
   "display_name": "Python 3 (ipykernel)",
   "language": "python",
   "name": "python3"
  },
  "language_info": {
   "codemirror_mode": {
    "name": "ipython",
    "version": 3
   },
   "file_extension": ".py",
   "mimetype": "text/x-python",
   "name": "python",
   "nbconvert_exporter": "python",
   "pygments_lexer": "ipython3",
   "version": "3.13.7"
  }
 },
 "nbformat": 4,
 "nbformat_minor": 5
}
