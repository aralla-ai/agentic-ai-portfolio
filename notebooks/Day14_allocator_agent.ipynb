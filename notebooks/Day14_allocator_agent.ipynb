{
 "cells": [
  {
   "cell_type": "markdown",
   "id": "02be981d-cea1-46f7-8c83-864e25421c44",
   "metadata": {},
   "source": [
    "We bring in StrategyAgent (ideas), RiskAgent (filters), and add our new AllocatorAgent (decision maker)."
   ]
  },
  {
   "cell_type": "code",
   "execution_count": 1,
   "id": "0db37fe3-19e5-4140-8f21-354125849bb0",
   "metadata": {},
   "outputs": [],
   "source": [
    "import sys\n",
    "sys.path.append(\"../src\")\n",
    "\n",
    "import pandas as pd\n",
    "import numpy as np\n",
    "\n",
    "from strategy_agent import StrategyAgent\n",
    "from risk_agent import RiskAgent\n"
   ]
  },
  {
   "cell_type": "markdown",
   "id": "96fbd7cc-6680-4cc5-bdf1-272e84f13ac7",
   "metadata": {},
   "source": [
    "AllocatorAgent takes approved strategies (from RiskAgent).\n",
    "\n",
    "It can apply different allocation rules:\n",
    "\n",
    "Equal-weighting (simple)\n",
    "\n",
    "Sharpe-weighting (give more to higher Sharpe)\n",
    "\n",
    "It outputs portfolio weights and final returns."
   ]
  },
  {
   "cell_type": "code",
   "execution_count": 2,
   "id": "6b8fc7dc-2c52-4315-a4cb-3e3e712369a1",
   "metadata": {},
   "outputs": [],
   "source": [
    "class AllocatorAgent:\n",
    "    def __init__(self, method=\"equal\"):\n",
    "        self.method = method\n",
    "    \n",
    "    def allocate(self, strategies: dict, metrics: dict, risk_assessments: dict):\n",
    "        # Filter only strategies that passed RiskAgent\n",
    "        approved = {\n",
    "            name: df for name, df in strategies.items()\n",
    "            if risk_assessments[name][\"Decision\"] == \"PASS\"\n",
    "        }\n",
    "        approved_metrics = {\n",
    "            name: metrics[name] for name in approved.keys()\n",
    "        }\n",
    "        \n",
    "        if not approved:\n",
    "            return None, \"No strategies passed risk checks\"\n",
    "        \n",
    "        if self.method == \"equal\":\n",
    "            weights = {name: 1/len(approved) for name in approved}\n",
    "        \n",
    "        elif self.method == \"sharpe\":\n",
    "            sharpes = {name: m[\"Sharpe\"] for name, m in approved_metrics.items()}\n",
    "            total = sum(sharpes.values())\n",
    "            weights = {name: s/total for name, s in sharpes.items()}\n",
    "        \n",
    "        # Build portfolio\n",
    "        portfolio = pd.DataFrame(index=list(approved.values())[0].index)\n",
    "        for name, df in approved.items():\n",
    "            portfolio[name] = df[\"Strategy_Return\"] * weights[name]\n",
    "        portfolio[\"Portfolio_Return\"] = portfolio.sum(axis=1)\n",
    "        portfolio[\"Cumulative\"] = (1 + portfolio[\"Portfolio_Return\"]).cumprod()\n",
    "        \n",
    "        return weights, portfolio\n"
   ]
  },
  {
   "cell_type": "markdown",
   "id": "42a2860a-cd39-494b-9e7b-5bbc983a7635",
   "metadata": {},
   "source": [
    "Now the three agents work together:\n",
    "\n",
    "StrategyAgent runs SMA, RSI, Bollinger.\n",
    "\n",
    "RiskAgent evaluates metrics.\n",
    "\n",
    "AllocatorAgent assigns weights and builds portfolio."
   ]
  },
  {
   "cell_type": "code",
   "execution_count": 3,
   "id": "9340ba55-aca3-4930-8456-98fad0e312ef",
   "metadata": {},
   "outputs": [
    {
     "name": "stdout",
     "output_type": "stream",
     "text": [
      "Weights: {'Bollinger': np.float64(1.0)}\n"
     ]
    },
    {
     "data": {
      "text/plain": [
       "<Axes: title={'center': 'Allocator Portfolio Curve'}, xlabel='Price'>"
      ]
     },
     "execution_count": 3,
     "metadata": {},
     "output_type": "execute_result"
    },
    {
     "data": {
      "image/png": "[encoded data removed]",
      "text/plain": [
       "<Figure size 1000x500 with 1 Axes>"
      ]
     },
     "metadata": {},
     "output_type": "display_data"
    }
   ],
   "source": [
    "# Load data\n",
    "data = pd.read_csv(\"../data/AAPL_enriched.csv\", index_col=0, parse_dates=True)\n",
    "\n",
    "# Step 1: Strategies\n",
    "strategy_agent = StrategyAgent(data)\n",
    "strategies = {\n",
    "    \"SMA\": strategy_agent.sma_crossover(),\n",
    "    \"RSI\": strategy_agent.rsi_strategy(),\n",
    "    \"Bollinger\": strategy_agent.bollinger_breakout()\n",
    "}\n",
    "\n",
    "# Step 2: Metrics\n",
    "def compute_metrics(df):\n",
    "    strat_curve = (1 + df[\"Strategy_Return\"]).cumprod()\n",
    "    years = (df.index[-1] - df.index[0]).days / 365.25\n",
    "    cagr = strat_curve.iloc[-1]**(1/years) - 1\n",
    "    vol = df[\"Strategy_Return\"].std() * np.sqrt(252)\n",
    "    sharpe = (df[\"Strategy_Return\"].mean() * 252) / (df[\"Strategy_Return\"].std() * np.sqrt(252))\n",
    "    roll_max = strat_curve.cummax()\n",
    "    dd = (strat_curve / roll_max - 1).min()\n",
    "    return {\"CAGR\": cagr, \"Volatility\": vol, \"Sharpe\": sharpe, \"MaxDD\": dd}\n",
    "\n",
    "metrics = {name: compute_metrics(df) for name, df in strategies.items()}\n",
    "\n",
    "# Step 3: Risk check\n",
    "risk_agent = RiskAgent(sharpe_min=1.0, max_dd=-0.25, vol_max=0.3)\n",
    "risk_assessments = {name: risk_agent.assess(m) for name, m in metrics.items()}\n",
    "\n",
    "# Step 4: Allocation\n",
    "allocator = AllocatorAgent(method=\"sharpe\")\n",
    "weights, portfolio = allocator.allocate(strategies, metrics, risk_assessments)\n",
    "\n",
    "print(\"Weights:\", weights)\n",
    "portfolio[[\"Cumulative\"]].plot(title=\"Allocator Portfolio Curve\", figsize=(10,5))\n"
   ]
  },
  {
   "cell_type": "markdown",
   "id": "85eb7a2b-9318-48cb-a482-09faeb5bdb07",
   "metadata": {},
   "source": [
    "Save weights + portfolio returns so the audit trail shows not just strategy metrics, but also how the Allocator decided."
   ]
  },
  {
   "cell_type": "code",
   "execution_count": 5,
   "id": "e32216a9-91d7-40ec-9376-950ae32c10c3",
   "metadata": {},
   "outputs": [],
   "source": [
    "import os\n",
    "from datetime import datetime\n",
    "\n",
    "os.makedirs(\"../logs\", exist_ok=True)\n",
    "\n",
    "pd.DataFrame([weights]).to_csv(\"../logs/Day14_allocations.csv\", index=False)\n",
    "portfolio.to_csv(\"../logs/Day14_portfolio.csv\")\n",
    "\n",
    "with open(\"../logs/Day14_summary.txt\", \"w\") as f:\n",
    "    f.write(f\"Day 14 run ({datetime.today().date()})\\n\")\n",
    "    f.write(\"Weights:\\n\")\n",
    "    f.write(str(weights) + \"\\n\")\n"
   ]
  },
  {
   "cell_type": "code",
   "execution_count": 6,
   "id": "f4d89e1b-5d06-428c-83c7-e7c47c9acdcb",
   "metadata": {},
   "outputs": [],
   "source": [
    "with open(\"../src/allocator_agent.py\", \"w\") as f:\n",
    "    f.write(\"\"\"import pandas as pd\n",
    "\n",
    "class AllocatorAgent:\n",
    "    def __init__(self, method=\"equal\"):\n",
    "        self.method = method\n",
    "    \n",
    "    def allocate(self, strategies: dict, metrics: dict, risk_assessments: dict):\n",
    "        approved = {name: df for name, df in strategies.items()\n",
    "                    if risk_assessments[name][\"Decision\"] == \"PASS\"}\n",
    "        approved_metrics = {name: metrics[name] for name in approved.keys()}\n",
    "        \n",
    "        if not approved:\n",
    "            return None, \"No strategies passed risk checks\"\n",
    "        \n",
    "        if self.method == \"equal\":\n",
    "            weights = {name: 1/len(approved) for name in approved}\n",
    "        elif self.method == \"sharpe\":\n",
    "            sharpes = {name: m[\"Sharpe\"] for name, m in approved_metrics.items()}\n",
    "            total = sum(sharpes.values())\n",
    "            weights = {name: s/total for name, s in sharpes.items()}\n",
    "        \n",
    "        portfolio = pd.DataFrame(index=list(approved.values())[0].index)\n",
    "        for name, df in approved.items():\n",
    "            portfolio[name] = df[\"Strategy_Return\"] * weights[name]\n",
    "        portfolio[\"Portfolio_Return\"] = portfolio.sum(axis=1)\n",
    "        portfolio[\"Cumulative\"] = (1 + portfolio[\"Portfolio_Return\"]).cumprod()\n",
    "        \n",
    "        return weights, portfolio\n",
    "\"\"\")\n"
   ]
  },
  {
   "cell_type": "code",
   "execution_count": null,
   "id": "51a8a23e-959d-4c67-a890-ce66470753f4",
   "metadata": {},
   "outputs": [],
   "source": []
  }
 ],
 "metadata": {
  "kernelspec": {
   "display_name": "Python 3 (ipykernel)",
   "language": "python",
   "name": "python3"
  },
  "language_info": {
   "codemirror_mode": {
    "name": "ipython",
    "version": 3
   },
   "file_extension": ".py",
   "mimetype": "text/x-python",
   "name": "python",
   "nbconvert_exporter": "python",
   "pygments_lexer": "ipython3",
   "version": "3.13.7"
  }
 },
 "nbformat": 4,
 "nbformat_minor": 5
}
