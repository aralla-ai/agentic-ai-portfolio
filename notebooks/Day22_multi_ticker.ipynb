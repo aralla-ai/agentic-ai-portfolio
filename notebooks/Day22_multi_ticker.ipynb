{
 "cells": [
  {
   "cell_type": "code",
   "execution_count": 1,
   "id": "d1bd7ba7-a5c0-4676-b23e-fde88966597f",
   "metadata": {},
   "outputs": [],
   "source": [
    "import sys, os\n",
    "sys.path.append(\"..\")\n",
    "\n",
    "import pandas as pd\n",
    "import yfinance as yf\n",
    "\n",
    "from agents import StrategyAgent, RiskAgent, AllocatorAgent\n"
   ]
  },
  {
   "cell_type": "code",
   "execution_count": 2,
   "id": "123da185-b9b7-4cd0-a0c3-328b477b6f1d",
   "metadata": {},
   "outputs": [
    {
     "name": "stderr",
     "output_type": "stream",
     "text": [
      "C:\\Users\\adity\\AppData\\Local\\Temp\\ipykernel_26532\\3750658778.py:5: FutureWarning: YF.download() has changed argument auto_adjust default to True\n",
      "  df = yf.download(ticker, start=\"2020-01-01\", end=\"2023-12-31\", progress=False)\n",
      "C:\\Users\\adity\\AppData\\Local\\Temp\\ipykernel_26532\\3750658778.py:5: FutureWarning: YF.download() has changed argument auto_adjust default to True\n",
      "  df = yf.download(ticker, start=\"2020-01-01\", end=\"2023-12-31\", progress=False)\n",
      "C:\\Users\\adity\\AppData\\Local\\Temp\\ipykernel_26532\\3750658778.py:5: FutureWarning: YF.download() has changed argument auto_adjust default to True\n",
      "  df = yf.download(ticker, start=\"2020-01-01\", end=\"2023-12-31\", progress=False)\n"
     ]
    },
    {
     "name": "stdout",
     "output_type": "stream",
     "text": [
      "Loaded tickers: ['AAPL', 'MSFT', 'AMZN']\n"
     ]
    }
   ],
   "source": [
    "tickers = [\"AAPL\", \"MSFT\", \"AMZN\"]\n",
    "\n",
    "data = {}\n",
    "for ticker in tickers:\n",
    "    df = yf.download(ticker, start=\"2020-01-01\", end=\"2023-12-31\", progress=False)\n",
    "    df[\"Return\"] = df[\"Close\"].pct_change()\n",
    "    data[ticker] = df\n",
    "\n",
    "print(\"Loaded tickers:\", list(data.keys()))\n"
   ]
  },
  {
   "cell_type": "code",
   "execution_count": 3,
   "id": "4b6a4b88-711b-4687-9734-bd7e1cbc70b4",
   "metadata": {},
   "outputs": [],
   "source": [
    "results = {}\n",
    "\n",
    "for ticker, df in data.items():\n",
    "    strat_agent = StrategyAgent(df)\n",
    "    strategies = strat_agent.generate()   # assume this gives SMA/RSI/Bollinger\n",
    "    \n",
    "    ticker_results = {}\n",
    "    risk_agent = RiskAgent()\n",
    "    \n",
    "    for name, strat_df in strategies.items():\n",
    "        metrics = risk_agent.evaluate(strat_df[\"Strategy_Return\"])\n",
    "        ticker_results[name] = {\n",
    "            \"Metrics\": metrics,\n",
    "            \"Data\": strat_df\n",
    "        }\n",
    "    \n",
    "    results[ticker] = ticker_results\n"
   ]
  },
  {
   "cell_type": "code",
   "execution_count": 4,
   "id": "9968b959-8e52-4509-a8a8-c48beea59de6",
   "metadata": {},
   "outputs": [],
   "source": [
    "combined = pd.DataFrame()\n",
    "\n",
    "for ticker, strat_dict in results.items():\n",
    "    for name, out in strat_dict.items():\n",
    "        metrics = risk_agent.evaluate(out[\"Data\"][\"Strategy_Return\"])\n",
    "\n",
    "        if metrics[\"Sharpe\"] > 1.0 and metrics[\"Decision\"] == \"PASS\":\n",
    "            combined[f\"{ticker}_{name}\"] = out[\"Data\"][\"Strategy_Return\"]\n",
    "\n"
   ]
  },
  {
   "cell_type": "code",
   "execution_count": 5,
   "id": "ca25005b-c795-424c-9e61-0cf662cca6a2",
   "metadata": {},
   "outputs": [],
   "source": [
    "os.makedirs(\"../logs\", exist_ok=True)\n",
    "os.makedirs(\"../data\", exist_ok=True)\n",
    "\n",
    "# Save combined portfolio\n",
    "combined.to_csv(\"../logs/Day22_multi_ticker_portfolio.csv\")\n",
    "\n",
    "# Save metrics summary\n",
    "summary = combined.describe().T\n",
    "summary.to_csv(\"../logs/Day22_summary.csv\")\n"
   ]
  },
  {
   "cell_type": "code",
   "execution_count": null,
   "id": "f8876b8c-8e0d-4ace-b63f-5a151bff010d",
   "metadata": {},
   "outputs": [],
   "source": []
  }
 ],
 "metadata": {
  "kernelspec": {
   "display_name": "Python 3 (ipykernel)",
   "language": "python",
   "name": "python3"
  },
  "language_info": {
   "codemirror_mode": {
    "name": "ipython",
    "version": 3
   },
   "file_extension": ".py",
   "mimetype": "text/x-python",
   "name": "python",
   "nbconvert_exporter": "python",
   "pygments_lexer": "ipython3",
   "version": "3.13.7"
  }
 },
 "nbformat": 4,
 "nbformat_minor": 5
}
