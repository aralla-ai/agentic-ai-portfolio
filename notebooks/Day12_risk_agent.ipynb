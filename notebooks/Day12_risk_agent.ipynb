{
 "cells": [
  {
   "cell_type": "markdown",
   "id": "e24f9f3a-8278-4259-9ca7-6b840942e580",
   "metadata": {},
   "source": [
    "In the real world, even a profitable strategy can be too risky.\n",
    "The Risk Agent is like a compliance officer: it looks at the strategy’s performance and checks if it’s within safe limits."
   ]
  },
  {
   "cell_type": "markdown",
   "id": "c56a01f7-661b-4ce7-839d-0ed298592803",
   "metadata": {},
   "source": [
    "We are creating a RiskAgent class.\n",
    "\n",
    "__init__ stores the thresholds we want (like Sharpe minimum).\n",
    "\n",
    "assess takes strategy metrics and checks if they are safe.\n",
    "\n",
    "It outputs both a decision (pass/fail) and a human-readable explanation."
   ]
  },
  {
   "cell_type": "code",
   "execution_count": 1,
   "id": "98e8fe36-0f2d-418a-af4e-234fa2859fb8",
   "metadata": {},
   "outputs": [],
   "source": [
    "class RiskAgent:\n",
    "    def __init__(self, sharpe_min=1.0, max_dd=-0.25, vol_max=0.3):\n",
    "        \"\"\"\n",
    "        sharpe_min: minimum acceptable Sharpe ratio\n",
    "        max_dd: maximum allowed drawdown (e.g. -0.25 = -25%)\n",
    "        vol_max: maximum annualized volatility\n",
    "        \"\"\"\n",
    "        self.sharpe_min = sharpe_min\n",
    "        self.max_dd = max_dd\n",
    "        self.vol_max = vol_max\n",
    "    \n",
    "    def assess(self, metrics: dict):\n",
    "        \"\"\"\n",
    "        Takes a metrics dictionary {CAGR, Volatility, Sharpe, MaxDD}\n",
    "        Returns pass/fail decision and notes\n",
    "        \"\"\"\n",
    "        notes = []\n",
    "        decision = \"PASS\"\n",
    "        \n",
    "        if metrics[\"Sharpe\"] < self.sharpe_min:\n",
    "            notes.append(f\"Sharpe too low ({metrics['Sharpe']:.2f} < {self.sharpe_min})\")\n",
    "            decision = \"FAIL\"\n",
    "        \n",
    "        if metrics[\"MaxDD\"] < self.max_dd:\n",
    "            notes.append(f\"Drawdown too high ({metrics['MaxDD']:.2%} < {self.max_dd:.0%})\")\n",
    "            decision = \"FAIL\"\n",
    "        \n",
    "        if metrics[\"Volatility\"] > self.vol_max:\n",
    "            notes.append(f\"Volatility too high ({metrics['Volatility']:.2%} > {self.vol_max:.0%})\")\n",
    "            decision = \"FAIL\"\n",
    "        \n",
    "        if not notes:\n",
    "            notes.append(\"All risk checks passed\")\n",
    "        \n",
    "        return {\"Decision\": decision, \"Notes\": notes}\n"
   ]
  },
  {
   "cell_type": "markdown",
   "id": "4a69cc2a-9306-4e9b-8ac6-5a9f721aaafa",
   "metadata": {},
   "source": [
    "We now connect the two agents:\n",
    "\n",
    "StrategyAgent produces results (returns, metrics).\n",
    "\n",
    "RiskAgent checks if those results are acceptable.\n",
    "This is the first step in orchestration."
   ]
  },
  {
   "cell_type": "code",
   "execution_count": 4,
   "id": "12a22bb4-9d83-4481-80d5-aa0352ad7dac",
   "metadata": {},
   "outputs": [
    {
     "name": "stdout",
     "output_type": "stream",
     "text": [
      "Metrics: {'CAGR': np.float64(-0.12185634208588725), 'Volatility': np.float64(0.04124301625654238), 'Sharpe': np.float64(-3.175535679227622), 'MaxDD': np.float64(-0.026329927975329626)}\n",
      "Assessment: {'Decision': 'FAIL', 'Notes': ['Sharpe too low (-3.18 < 1.0)']}\n"
     ]
    }
   ],
   "source": [
    "import sys\n",
    "sys.path.append(\"../src\")\n",
    "\n",
    "from strategy_agent import StrategyAgent\n",
    "import pandas as pd\n",
    "import numpy as np\n",
    "\n",
    "# Load dataset\n",
    "data = pd.read_csv(\"../data/AAPL_enriched.csv\", index_col=0, parse_dates=True)\n",
    "\n",
    "# Run SMA strategy\n",
    "agent = StrategyAgent(data)\n",
    "sma_res = agent.sma_crossover()\n",
    "\n",
    "# Compute metrics\n",
    "def compute_metrics(df):\n",
    "    strat_curve = (1 + df[\"Strategy_Return\"]).cumprod()\n",
    "    years = (df.index[-1] - df.index[0]).days / 365.25\n",
    "    cagr = strat_curve.iloc[-1]**(1/years) - 1\n",
    "    vol = df[\"Strategy_Return\"].std() * np.sqrt(252)\n",
    "    sharpe = (df[\"Strategy_Return\"].mean() * 252) / (df[\"Strategy_Return\"].std() * np.sqrt(252))\n",
    "    roll_max = strat_curve.cummax()\n",
    "    dd = (strat_curve / roll_max - 1).min()\n",
    "    return {\"CAGR\": cagr, \"Volatility\": vol, \"Sharpe\": sharpe, \"MaxDD\": dd}\n",
    "\n",
    "metrics = compute_metrics(sma_res)\n",
    "\n",
    "# Assess with Risk Agent\n",
    "risk = RiskAgent(sharpe_min=1.0, max_dd=-0.25, vol_max=0.3)\n",
    "assessment = risk.assess(metrics)\n",
    "\n",
    "print(\"Metrics:\", metrics)\n",
    "print(\"Assessment:\", assessment)\n"
   ]
  },
  {
   "cell_type": "markdown",
   "id": "2d4b5a4f-4089-4fb6-a517-8da18da09b21",
   "metadata": {},
   "source": [
    "We export the RiskAgent to a file in /src/, just like StrategyAgent.\n",
    "This lets us reuse it in later orchestration (Allocator Agent, full pipelines)."
   ]
  },
  {
   "cell_type": "code",
   "execution_count": 5,
   "id": "c4de1e3e-0355-4d14-8d8b-9f73b1f264ae",
   "metadata": {},
   "outputs": [],
   "source": [
    "with open(\"../src/risk_agent.py\", \"w\") as f:\n",
    "    f.write(\"\"\"class RiskAgent:\n",
    "    def __init__(self, sharpe_min=1.0, max_dd=-0.25, vol_max=0.3):\n",
    "        self.sharpe_min = sharpe_min\n",
    "        self.max_dd = max_dd\n",
    "        self.vol_max = vol_max\n",
    "    \n",
    "    def assess(self, metrics: dict):\n",
    "        notes = []\n",
    "        decision = \"PASS\"\n",
    "        \n",
    "        if metrics[\"Sharpe\"] < self.sharpe_min:\n",
    "            notes.append(f\"Sharpe too low ({metrics['Sharpe']:.2f} < {self.sharpe_min})\")\n",
    "            decision = \"FAIL\"\n",
    "        \n",
    "        if metrics[\"MaxDD\"] < self.max_dd:\n",
    "            notes.append(f\"Drawdown too high ({metrics['MaxDD']:.2%} < {self.max_dd:.0%})\")\n",
    "            decision = \"FAIL\"\n",
    "        \n",
    "        if metrics[\"Volatility\"] > self.vol_max:\n",
    "            notes.append(f\"Volatility too high ({metrics['Volatility']:.2%} > {self.vol_max:.0%})\")\n",
    "            decision = \"FAIL\"\n",
    "        \n",
    "        if not notes:\n",
    "            notes.append(\"All risk checks passed\")\n",
    "        \n",
    "        return {\"Decision\": decision, \"Notes\": notes}\"\"\")\n"
   ]
  },
  {
   "cell_type": "code",
   "execution_count": null,
   "id": "c4e4ded9-ead3-47ea-a43e-5001d937116c",
   "metadata": {},
   "outputs": [],
   "source": []
  }
 ],
 "metadata": {
  "kernelspec": {
   "display_name": "Python 3 (ipykernel)",
   "language": "python",
   "name": "python3"
  },
  "language_info": {
   "codemirror_mode": {
    "name": "ipython",
    "version": 3
   },
   "file_extension": ".py",
   "mimetype": "text/x-python",
   "name": "python",
   "nbconvert_exporter": "python",
   "pygments_lexer": "ipython3",
   "version": "3.13.7"
  }
 },
 "nbformat": 4,
 "nbformat_minor": 5
}
