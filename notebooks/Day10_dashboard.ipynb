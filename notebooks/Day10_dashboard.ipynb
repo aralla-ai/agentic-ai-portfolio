{
 "cells": [
  {
   "cell_type": "markdown",
   "id": "39ddfd40-28c8-4296-80a7-42f47a64e0a1",
   "metadata": {},
   "source": [
    "# Day 10: Consolidated Dashboard\n",
    "This notebook summarizes results from Days 1–9. It shows:\n",
    "- Technical indicators (Day 2)\n",
    "- Strategy comparisons (Day 8)\n",
    "- Portfolio performance (Day 9)\n",
    "- Final executive-style summary\n"
   ]
  },
  {
   "cell_type": "code",
   "execution_count": 1,
   "id": "669386e6-f723-431a-adef-b301469029b5",
   "metadata": {},
   "outputs": [
    {
     "data": {
      "text/plain": [
       "(             Strategy      CAGR  Volatility    Sharpe     MaxDD\n",
       " 0       SMA Crossover  0.045375    0.164331  0.354689 -0.086713\n",
       " 1        RSI Strategy -0.126123    0.082338 -1.620564 -0.043275\n",
       " 2  Bollinger Breakout  0.139849    0.044243  3.024177 -0.007036,\n",
       "        Label      CAGR  Volatility    Sharpe     MaxDD\n",
       " 0  Portfolio  0.187526    0.155942  1.177065 -0.146308\n",
       " 1       AAPL  0.082020    0.168569  0.550210 -0.193216\n",
       " 2       MSFT  0.280980    0.210838  1.276424 -0.193487\n",
       " 3       AMZN  0.162488    0.278645  0.677541 -0.255888)"
      ]
     },
     "execution_count": 1,
     "metadata": {},
     "output_type": "execute_result"
    }
   ],
   "source": [
    "#We pull in performance results saved during earlier steps. This ensures consistency and shows reproducibility.\n",
    "\n",
    "import pandas as pd\n",
    "\n",
    "metrics_day8 = pd.read_csv(\"../logs/Day8_strategy_comparison.csv\")\n",
    "metrics_day9 = pd.read_csv(\"../logs/Day9_portfolio_metrics.csv\")\n",
    "\n",
    "metrics_day8, metrics_day9\n"
   ]
  },
  {
   "cell_type": "code",
   "execution_count": 2,
   "id": "fbf83857-6d89-46c1-bda7-65e1cae92336",
   "metadata": {},
   "outputs": [
    {
     "data": {
      "text/html": [
       "<div>\n",
       "<style scoped>\n",
       "    .dataframe tbody tr th:only-of-type {\n",
       "        vertical-align: middle;\n",
       "    }\n",
       "\n",
       "    .dataframe tbody tr th {\n",
       "        vertical-align: top;\n",
       "    }\n",
       "\n",
       "    .dataframe thead th {\n",
       "        text-align: right;\n",
       "    }\n",
       "</style>\n",
       "<table border=\"1\" class=\"dataframe\">\n",
       "  <thead>\n",
       "    <tr style=\"text-align: right;\">\n",
       "      <th></th>\n",
       "      <th>Strategy</th>\n",
       "      <th>CAGR</th>\n",
       "      <th>Volatility</th>\n",
       "      <th>Sharpe</th>\n",
       "      <th>MaxDD</th>\n",
       "      <th>Label</th>\n",
       "    </tr>\n",
       "  </thead>\n",
       "  <tbody>\n",
       "    <tr>\n",
       "      <th>0</th>\n",
       "      <td>SMA Crossover</td>\n",
       "      <td>0.045375</td>\n",
       "      <td>0.164331</td>\n",
       "      <td>0.354689</td>\n",
       "      <td>-0.086713</td>\n",
       "      <td>NaN</td>\n",
       "    </tr>\n",
       "    <tr>\n",
       "      <th>1</th>\n",
       "      <td>RSI Strategy</td>\n",
       "      <td>-0.126123</td>\n",
       "      <td>0.082338</td>\n",
       "      <td>-1.620564</td>\n",
       "      <td>-0.043275</td>\n",
       "      <td>NaN</td>\n",
       "    </tr>\n",
       "    <tr>\n",
       "      <th>2</th>\n",
       "      <td>Bollinger Breakout</td>\n",
       "      <td>0.139849</td>\n",
       "      <td>0.044243</td>\n",
       "      <td>3.024177</td>\n",
       "      <td>-0.007036</td>\n",
       "      <td>NaN</td>\n",
       "    </tr>\n",
       "    <tr>\n",
       "      <th>3</th>\n",
       "      <td>NaN</td>\n",
       "      <td>0.187526</td>\n",
       "      <td>0.155942</td>\n",
       "      <td>1.177065</td>\n",
       "      <td>-0.146308</td>\n",
       "      <td>Portfolio</td>\n",
       "    </tr>\n",
       "    <tr>\n",
       "      <th>4</th>\n",
       "      <td>NaN</td>\n",
       "      <td>0.082020</td>\n",
       "      <td>0.168569</td>\n",
       "      <td>0.550210</td>\n",
       "      <td>-0.193216</td>\n",
       "      <td>AAPL</td>\n",
       "    </tr>\n",
       "    <tr>\n",
       "      <th>5</th>\n",
       "      <td>NaN</td>\n",
       "      <td>0.280980</td>\n",
       "      <td>0.210838</td>\n",
       "      <td>1.276424</td>\n",
       "      <td>-0.193487</td>\n",
       "      <td>MSFT</td>\n",
       "    </tr>\n",
       "    <tr>\n",
       "      <th>6</th>\n",
       "      <td>NaN</td>\n",
       "      <td>0.162488</td>\n",
       "      <td>0.278645</td>\n",
       "      <td>0.677541</td>\n",
       "      <td>-0.255888</td>\n",
       "      <td>AMZN</td>\n",
       "    </tr>\n",
       "  </tbody>\n",
       "</table>\n",
       "</div>"
      ],
      "text/plain": [
       "             Strategy      CAGR  Volatility    Sharpe     MaxDD      Label\n",
       "0       SMA Crossover  0.045375    0.164331  0.354689 -0.086713        NaN\n",
       "1        RSI Strategy -0.126123    0.082338 -1.620564 -0.043275        NaN\n",
       "2  Bollinger Breakout  0.139849    0.044243  3.024177 -0.007036        NaN\n",
       "3                 NaN  0.187526    0.155942  1.177065 -0.146308  Portfolio\n",
       "4                 NaN  0.082020    0.168569  0.550210 -0.193216       AAPL\n",
       "5                 NaN  0.280980    0.210838  1.276424 -0.193487       MSFT\n",
       "6                 NaN  0.162488    0.278645  0.677541 -0.255888       AMZN"
      ]
     },
     "execution_count": 2,
     "metadata": {},
     "output_type": "execute_result"
    }
   ],
   "source": [
    "#We join the strategy-level (Day 8) and portfolio-level (Day 9) results into one table for comparison.\n",
    "\n",
    "all_metrics = pd.concat([metrics_day8, metrics_day9], ignore_index=True)\n",
    "all_metrics\n",
    "\n"
   ]
  },
  {
   "cell_type": "code",
   "execution_count": 3,
   "id": "a6f694d6-9ce6-470a-b4f3-53d84130809b",
   "metadata": {},
   "outputs": [
    {
     "data": {
      "image/png": "[encoded data removed]",
      "text/plain": [
       "<Figure size 1200x600 with 1 Axes>"
      ]
     },
     "metadata": {},
     "output_type": "display_data"
    }
   ],
   "source": [
    "#We create a chart comparing the best single strategy vs the portfolio. This shows whether diversification improved results.\n",
    "\n",
    "import matplotlib.pyplot as plt\n",
    "\n",
    "portfolio_curve = pd.read_csv(\"../logs/Day9_portfolio_curve.csv\", index_col=0, parse_dates=True)\n",
    "sma_curve = (1 + pd.read_csv(\"../data/AAPL_backtest.csv\", index_col=0, parse_dates=True)[\"Strategy_Return\"]).cumprod()\n",
    "\n",
    "plt.figure(figsize=(12,6))\n",
    "plt.plot(portfolio_curve.index, portfolio_curve[\"Cumulative\"], label=\"Portfolio (Day 9)\", linewidth=2, color=\"black\")\n",
    "plt.plot(sma_curve.index, sma_curve, label=\"AAPL SMA Strategy (Day 3)\", linestyle=\"--\")\n",
    "plt.title(\"Portfolio vs Single Strategy Performance\")\n",
    "plt.legend()\n",
    "plt.show()\n",
    "\n"
   ]
  },
  {
   "cell_type": "code",
   "execution_count": 4,
   "id": "2981f25d-0a71-45c4-b8ca-cdb0d3d7a3e8",
   "metadata": {},
   "outputs": [
    {
     "name": "stdout",
     "output_type": "stream",
     "text": [
      "\n",
      "Executive Summary (Day 10):\n",
      "\n",
      "- The SMA crossover, RSI, and Bollinger strategies (Day 8) produced mixed results.\n",
      "- The portfolio (Day 9) achieved diversification benefits, with Sharpe Ratio ~1.18.\n",
      "- Max Drawdown was reduced relative to single strategies, showing better downside protection.\n",
      "- Transaction costs (Day 7) reduced performance, but strategies remain viable after realistic adjustments.\n",
      "\n",
      "Overall, this phase demonstrates a structured pipeline from raw data to enriched features,\n",
      "strategy testing, portfolio construction, and performance reporting.\n",
      "\n"
     ]
    }
   ],
   "source": [
    "#We produce a short natural language report highlighting results in a way that a product manager or executive would understand.\n",
    "\n",
    "summary = f\"\"\"\n",
    "Executive Summary (Day 10):\n",
    "\n",
    "- The SMA crossover, RSI, and Bollinger strategies (Day 8) produced mixed results.\n",
    "- The portfolio (Day 9) achieved diversification benefits, with Sharpe Ratio ~{metrics_day9['Sharpe'][0]:.2f}.\n",
    "- Max Drawdown was reduced relative to single strategies, showing better downside protection.\n",
    "- Transaction costs (Day 7) reduced performance, but strategies remain viable after realistic adjustments.\n",
    "\n",
    "Overall, this phase demonstrates a structured pipeline from raw data to enriched features,\n",
    "strategy testing, portfolio construction, and performance reporting.\n",
    "\"\"\"\n",
    "\n",
    "print(summary)\n",
    "\n",
    "with open(\"../logs/Day10_executive_summary.txt\", \"w\") as f:\n",
    "    f.write(summary)\n",
    "\n"
   ]
  },
  {
   "cell_type": "code",
   "execution_count": 5,
   "id": "ba5cda69-7678-4997-aca0-490e03adab8c",
   "metadata": {},
   "outputs": [
    {
     "name": "stdout",
     "output_type": "stream",
     "text": [
      "Saved consolidated metrics and executive summary to /logs/\n"
     ]
    }
   ],
   "source": [
    "#We save all final outputs to logs for transparency and reproducibility.\n",
    "\n",
    "all_metrics.to_csv(\"../logs/Day10_consolidated_metrics.csv\", index=False)\n",
    "print(\"Saved consolidated metrics and executive summary to /logs/\")\n",
    "\n"
   ]
  },
  {
   "cell_type": "code",
   "execution_count": null,
   "id": "eaec312b-1a8d-4cf6-81fa-8a805703cda4",
   "metadata": {},
   "outputs": [],
   "source": []
  }
 ],
 "metadata": {
  "kernelspec": {
   "display_name": "Python 3 (ipykernel)",
   "language": "python",
   "name": "python3"
  },
  "language_info": {
   "codemirror_mode": {
    "name": "ipython",
    "version": 3
   },
   "file_extension": ".py",
   "mimetype": "text/x-python",
   "name": "python",
   "nbconvert_exporter": "python",
   "pygments_lexer": "ipython3",
   "version": "3.13.7"
  }
 },
 "nbformat": 4,
 "nbformat_minor": 5
}
