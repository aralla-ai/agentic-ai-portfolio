{
 "cells": [
  {
   "cell_type": "markdown",
   "id": "bd8565bf-11d9-4f93-830c-ac9791a4fdb3",
   "metadata": {},
   "source": [
    "We import our three agents and supporting libraries."
   ]
  },
  {
   "cell_type": "code",
   "execution_count": 11,
   "id": "a8a96bfa-805a-423c-afa8-d9a033931ddf",
   "metadata": {},
   "outputs": [],
   "source": [
    "import sys\n",
    "sys.path.append(\"../src\")\n",
    "\n",
    "import pandas as pd\n",
    "import numpy as np\n",
    "import random\n",
    "\n",
    "from strategy_agent import StrategyAgent\n",
    "from risk_agent import RiskAgent\n",
    "from allocator_agent import AllocatorAgent\n"
   ]
  },
  {
   "cell_type": "code",
   "execution_count": 12,
   "id": "80760996-f40e-41f3-852f-caca443fb81e",
   "metadata": {},
   "outputs": [],
   "source": [
    "data = pd.read_csv(\"../data/AAPL_enriched.csv\", index_col=0, parse_dates=True)"
   ]
  },
  {
   "cell_type": "code",
   "execution_count": 16,
   "id": "1376ca88-875e-499c-8389-48c53d12e77b",
   "metadata": {},
   "outputs": [],
   "source": [
    "def compute_metrics(df):\n",
    "    if \"Strategy_Return\" in df.columns:\n",
    "        returns = df[\"Strategy_Return\"]\n",
    "    elif \"Portfolio_Return\" in df.columns:\n",
    "        returns = df[\"Portfolio_Return\"]\n",
    "    else:\n",
    "        raise KeyError(\"No valid return column found\")\n",
    "    \n",
    "    strat_curve = (1 + returns.fillna(0)).cumprod()\n",
    "    years = (returns.index[-1] - returns.index[0]).days / 365.25\n",
    "    cagr = strat_curve.iloc[-1]**(1/years) - 1 if years > 0 else 0\n",
    "    vol = returns.std() * np.sqrt(252)\n",
    "    sharpe = (returns.mean() * 252) / (returns.std() * np.sqrt(252)) if returns.std() > 0 else 0\n",
    "    roll_max = strat_curve.cummax()\n",
    "    dd = (strat_curve / roll_max - 1).min()\n",
    "    return {\"CAGR\": cagr, \"Volatility\": vol, \"Sharpe\": sharpe, \"MaxDD\": dd}\n",
    "\n"
   ]
  },
  {
   "cell_type": "markdown",
   "id": "dc9e8815-a4b3-421e-b723-a8e34cf92e31",
   "metadata": {},
   "source": [
    "Loop up to 3 attempts.\n",
    "\n",
    "Each attempt: StrategyAgent generates strategies with random params.\n",
    "\n",
    "RiskAgent filters. AllocatorAgent builds portfolio.\n",
    "\n",
    "RiskAgent checks portfolio. If FAIL → retry."
   ]
  },
  {
   "cell_type": "code",
   "execution_count": 17,
   "id": "66ee5806-5bc7-41e6-b4f7-995558938293",
   "metadata": {},
   "outputs": [],
   "source": [
    "def closed_loop(data, max_attempts=3):\n",
    "    attempt = 0\n",
    "    portfolio = None\n",
    "    decision = \"FAIL\"\n",
    "    notes = []\n",
    "\n",
    "    while attempt < max_attempts and decision == \"FAIL\":\n",
    "        attempt += 1\n",
    "        print(f\"\\nAttempt {attempt} -----------------\")\n",
    "        \n",
    "        # Step 1: Generate strategies with varied params\n",
    "        agent = StrategyAgent(data)\n",
    "        strategies = {\n",
    "            f\"SMA_{attempt}\": agent.sma_crossover(fast=random.choice([5,10,15]), slow=random.choice([50,100])),\n",
    "            f\"RSI_{attempt}\": agent.rsi_strategy(lower=random.choice([25,30]), upper=random.choice([70,75])),\n",
    "            f\"BB_{attempt}\": agent.bollinger_breakout()\n",
    "        }\n",
    "        \n",
    "        # Step 2: Metrics\n",
    "        metrics = {name: compute_metrics(df) for name, df in strategies.items()}\n",
    "        \n",
    "        # Step 3: Risk checks at strategy level\n",
    "        risk_agent = RiskAgent(sharpe_min=1.0, max_dd=-0.25, vol_max=0.3)\n",
    "        risk_assessments = {name: risk_agent.assess(m) for name, m in metrics.items()}\n",
    "        \n",
    "        # Step 4: Allocation\n",
    "        allocator = AllocatorAgent(method=\"sharpe\")\n",
    "        weights, portfolio = allocator.allocate(strategies, metrics, risk_assessments)\n",
    "        \n",
    "        if portfolio is None:\n",
    "            print(\"No strategies passed individual risk checks.\")\n",
    "            continue\n",
    "        \n",
    "        # Step 5: RiskAgent evaluates the PORTFOLIO\n",
    "        portfolio_metrics = compute_metrics(portfolio)\n",
    "        portfolio_assessment = risk_agent.assess(portfolio_metrics)\n",
    "        \n",
    "        print(\"Portfolio metrics:\", portfolio_metrics)\n",
    "        print(\"Assessment:\", portfolio_assessment)\n",
    "        \n",
    "        decision = portfolio_assessment[\"Decision\"]\n",
    "        notes = portfolio_assessment[\"Notes\"]\n",
    "        \n",
    "    return portfolio, decision, notes\n"
   ]
  },
  {
   "cell_type": "code",
   "execution_count": 18,
   "id": "8eec63ae-3094-4310-9f80-2be0f7b0b6a5",
   "metadata": {},
   "outputs": [
    {
     "name": "stdout",
     "output_type": "stream",
     "text": [
      "\n",
      "Attempt 1 -----------------\n",
      "Portfolio metrics: {'CAGR': np.float64(0.13984910882294188), 'Volatility': np.float64(0.04382244081992633), 'Sharpe': np.float64(2.9944674019850326), 'MaxDD': np.float64(-0.007035576834644064)}\n",
      "Assessment: {'Decision': 'PASS', 'Notes': ['All risk checks passed']}\n",
      "\n",
      "Final Decision: PASS\n",
      "Notes: ['All risk checks passed']\n"
     ]
    },
    {
     "data": {
      "image/png": "[encoded data removed]",
      "text/plain": [
       "<Figure size 1000x500 with 1 Axes>"
      ]
     },
     "metadata": {},
     "output_type": "display_data"
    }
   ],
   "source": [
    "portfolio, decision, notes = closed_loop(data)\n",
    "\n",
    "print(\"\\nFinal Decision:\", decision)\n",
    "print(\"Notes:\", notes)\n",
    "\n",
    "if portfolio is not None:\n",
    "    portfolio[[\"Cumulative\"]].plot(title=\"Closed Loop Portfolio\", figsize=(10,5))\n"
   ]
  },
  {
   "cell_type": "code",
   "execution_count": 19,
   "id": "c41feb55-b6d7-4197-adb7-4bb7fc246e92",
   "metadata": {},
   "outputs": [],
   "source": [
    "import os\n",
    "from datetime import datetime\n",
    "\n",
    "os.makedirs(\"../logs\", exist_ok=True)\n",
    "\n",
    "if portfolio is not None:\n",
    "    portfolio.to_csv(\"../logs/Day15_closed_loop_portfolio.csv\")\n",
    "    \n",
    "with open(\"../logs/Day15_summary.txt\", \"w\") as f:\n",
    "    f.write(f\"Day 15 run ({datetime.today().date()})\\n\")\n",
    "    f.write(f\"Decision: {decision}\\n\")\n",
    "    f.write(\"Notes: \" + \"; \".join(notes))\n"
   ]
  },
  {
   "cell_type": "code",
   "execution_count": null,
   "id": "d35543b4-0b6b-4ca1-9815-e4647a4870b4",
   "metadata": {},
   "outputs": [],
   "source": []
  }
 ],
 "metadata": {
  "kernelspec": {
   "display_name": "Python 3 (ipykernel)",
   "language": "python",
   "name": "python3"
  },
  "language_info": {
   "codemirror_mode": {
    "name": "ipython",
    "version": 3
   },
   "file_extension": ".py",
   "mimetype": "text/x-python",
   "name": "python",
   "nbconvert_exporter": "python",
   "pygments_lexer": "ipython3",
   "version": "3.13.7"
  }
 },
 "nbformat": 4,
 "nbformat_minor": 5
}
