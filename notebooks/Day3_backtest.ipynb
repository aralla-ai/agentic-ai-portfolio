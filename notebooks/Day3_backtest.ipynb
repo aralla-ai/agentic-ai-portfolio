{
 "cells": [
  {
   "cell_type": "code",
   "execution_count": 1,
   "id": "1f81f83c-3a67-40b7-be67-47f0dcb302f4",
   "metadata": {},
   "outputs": [
    {
     "data": {
      "text/html": [
       "<div>\n",
       "<style scoped>\n",
       "    .dataframe tbody tr th:only-of-type {\n",
       "        vertical-align: middle;\n",
       "    }\n",
       "\n",
       "    .dataframe tbody tr th {\n",
       "        vertical-align: top;\n",
       "    }\n",
       "\n",
       "    .dataframe thead th {\n",
       "        text-align: right;\n",
       "    }\n",
       "</style>\n",
       "<table border=\"1\" class=\"dataframe\">\n",
       "  <thead>\n",
       "    <tr style=\"text-align: right;\">\n",
       "      <th></th>\n",
       "      <th>Open</th>\n",
       "      <th>High</th>\n",
       "      <th>Low</th>\n",
       "      <th>Close</th>\n",
       "      <th>Volume</th>\n",
       "      <th>SMA_10</th>\n",
       "      <th>SMA_50</th>\n",
       "      <th>SMA_200</th>\n",
       "      <th>Volatility_30</th>\n",
       "      <th>RSI_14</th>\n",
       "      <th>BB_MID</th>\n",
       "      <th>BB_UPPER</th>\n",
       "      <th>BB_LOWER</th>\n",
       "      <th>ATR_14</th>\n",
       "    </tr>\n",
       "    <tr>\n",
       "      <th>Price</th>\n",
       "      <th></th>\n",
       "      <th></th>\n",
       "      <th></th>\n",
       "      <th></th>\n",
       "      <th></th>\n",
       "      <th></th>\n",
       "      <th></th>\n",
       "      <th></th>\n",
       "      <th></th>\n",
       "      <th></th>\n",
       "      <th></th>\n",
       "      <th></th>\n",
       "      <th></th>\n",
       "      <th></th>\n",
       "    </tr>\n",
       "  </thead>\n",
       "  <tbody>\n",
       "    <tr>\n",
       "      <th>2024-10-16</th>\n",
       "      <td>230.527109</td>\n",
       "      <td>231.044690</td>\n",
       "      <td>228.775253</td>\n",
       "      <td>230.706268</td>\n",
       "      <td>34082200.0</td>\n",
       "      <td>227.241415</td>\n",
       "      <td>223.593807</td>\n",
       "      <td>198.110703</td>\n",
       "      <td>0.014182</td>\n",
       "      <td>57.519396</td>\n",
       "      <td>227.021934</td>\n",
       "      <td>232.629377</td>\n",
       "      <td>221.414490</td>\n",
       "      <td>4.400949</td>\n",
       "    </tr>\n",
       "    <tr>\n",
       "      <th>2024-10-17</th>\n",
       "      <td>232.348639</td>\n",
       "      <td>232.766707</td>\n",
       "      <td>229.452131</td>\n",
       "      <td>231.074570</td>\n",
       "      <td>32993800.0</td>\n",
       "      <td>227.886414</td>\n",
       "      <td>224.043167</td>\n",
       "      <td>198.345669</td>\n",
       "      <td>0.014147</td>\n",
       "      <td>58.005551</td>\n",
       "      <td>227.185175</td>\n",
       "      <td>233.072297</td>\n",
       "      <td>221.298052</td>\n",
       "      <td>4.479868</td>\n",
       "    </tr>\n",
       "    <tr>\n",
       "      <th>2024-10-18</th>\n",
       "      <td>235.085888</td>\n",
       "      <td>235.085888</td>\n",
       "      <td>232.925942</td>\n",
       "      <td>233.911362</td>\n",
       "      <td>46431500.0</td>\n",
       "      <td>228.702612</td>\n",
       "      <td>224.479866</td>\n",
       "      <td>198.601710</td>\n",
       "      <td>0.014184</td>\n",
       "      <td>61.646369</td>\n",
       "      <td>227.523599</td>\n",
       "      <td>234.134208</td>\n",
       "      <td>220.912991</td>\n",
       "      <td>4.395970</td>\n",
       "    </tr>\n",
       "    <tr>\n",
       "      <th>2024-10-21</th>\n",
       "      <td>233.363911</td>\n",
       "      <td>235.752803</td>\n",
       "      <td>233.363911</td>\n",
       "      <td>235.384506</td>\n",
       "      <td>36254500.0</td>\n",
       "      <td>230.174759</td>\n",
       "      <td>224.887767</td>\n",
       "      <td>198.876718</td>\n",
       "      <td>0.014199</td>\n",
       "      <td>63.419961</td>\n",
       "      <td>228.021780</td>\n",
       "      <td>235.419994</td>\n",
       "      <td>220.623567</td>\n",
       "      <td>3.908241</td>\n",
       "    </tr>\n",
       "    <tr>\n",
       "      <th>2024-10-22</th>\n",
       "      <td>232.806535</td>\n",
       "      <td>235.125743</td>\n",
       "      <td>231.522517</td>\n",
       "      <td>234.767410</td>\n",
       "      <td>38846600.0</td>\n",
       "      <td>231.179086</td>\n",
       "      <td>225.252670</td>\n",
       "      <td>199.152260</td>\n",
       "      <td>0.014186</td>\n",
       "      <td>62.123980</td>\n",
       "      <td>228.444315</td>\n",
       "      <td>236.378386</td>\n",
       "      <td>220.510244</td>\n",
       "      <td>3.874823</td>\n",
       "    </tr>\n",
       "  </tbody>\n",
       "</table>\n",
       "</div>"
      ],
      "text/plain": [
       "                  Open        High         Low       Close      Volume  \\\n",
       "Price                                                                    \n",
       "2024-10-16  230.527109  231.044690  228.775253  230.706268  34082200.0   \n",
       "2024-10-17  232.348639  232.766707  229.452131  231.074570  32993800.0   \n",
       "2024-10-18  235.085888  235.085888  232.925942  233.911362  46431500.0   \n",
       "2024-10-21  233.363911  235.752803  233.363911  235.384506  36254500.0   \n",
       "2024-10-22  232.806535  235.125743  231.522517  234.767410  38846600.0   \n",
       "\n",
       "                SMA_10      SMA_50     SMA_200  Volatility_30     RSI_14  \\\n",
       "Price                                                                      \n",
       "2024-10-16  227.241415  223.593807  198.110703       0.014182  57.519396   \n",
       "2024-10-17  227.886414  224.043167  198.345669       0.014147  58.005551   \n",
       "2024-10-18  228.702612  224.479866  198.601710       0.014184  61.646369   \n",
       "2024-10-21  230.174759  224.887767  198.876718       0.014199  63.419961   \n",
       "2024-10-22  231.179086  225.252670  199.152260       0.014186  62.123980   \n",
       "\n",
       "                BB_MID    BB_UPPER    BB_LOWER    ATR_14  \n",
       "Price                                                     \n",
       "2024-10-16  227.021934  232.629377  221.414490  4.400949  \n",
       "2024-10-17  227.185175  233.072297  221.298052  4.479868  \n",
       "2024-10-18  227.523599  234.134208  220.912991  4.395970  \n",
       "2024-10-21  228.021780  235.419994  220.623567  3.908241  \n",
       "2024-10-22  228.444315  236.378386  220.510244  3.874823  "
      ]
     },
     "execution_count": 1,
     "metadata": {},
     "output_type": "execute_result"
    }
   ],
   "source": [
    "import pandas as pd\n",
    "\n",
    "# Load the enriched dataset from Day 2\n",
    "data = pd.read_csv(\"../data/AAPL_enriched.csv\", index_col=0, parse_dates=True)\n",
    "data.head()\n"
   ]
  },
  {
   "cell_type": "code",
   "execution_count": 2,
   "id": "c95cda35-1733-4690-a4ee-521006487b08",
   "metadata": {},
   "outputs": [],
   "source": [
    "#Rules - Buy when SMA_10 crosses above SMA_50. Sell when SMA_10 crosses below SMA_50.\n",
    "\n",
    "data[\"Signal\"] = 0\n",
    "data.loc[data[\"SMA_10\"] > data[\"SMA_50\"], \"Signal\"] = 1\n",
    "data.loc[data[\"SMA_10\"] < data[\"SMA_50\"], \"Signal\"] = -1\n",
    "\n",
    "# Shift to represent next-day position (avoid lookahead bias)\n",
    "data[\"Position\"] = data[\"Signal\"].shift(1).fillna(0)\n"
   ]
  },
  {
   "cell_type": "code",
   "execution_count": 3,
   "id": "d9605d88-4485-4396-8963-1c93a6e8fbd4",
   "metadata": {},
   "outputs": [],
   "source": [
    "# Daily returns\n",
    "data[\"Return\"] = data[\"Close\"].pct_change()\n",
    "\n",
    "# Strategy returns\n",
    "data[\"Strategy_Return\"] = data[\"Position\"] * data[\"Return\"]\n"
   ]
  },
  {
   "cell_type": "code",
   "execution_count": 4,
   "id": "26fb23a7-0451-4662-a05e-f2158390076a",
   "metadata": {},
   "outputs": [
    {
     "name": "stdout",
     "output_type": "stream",
     "text": [
      "Cumulative Return: 1.01x\n",
      "Sharpe Ratio: 0.35\n",
      "Max Drawdown: -8.67%\n"
     ]
    }
   ],
   "source": [
    "import numpy as np\n",
    "\n",
    "cumulative_return = (1 + data[\"Strategy_Return\"]).cumprod()\n",
    "sharpe_ratio = np.sqrt(252) * data[\"Strategy_Return\"].mean() / data[\"Strategy_Return\"].std()\n",
    "max_drawdown = (cumulative_return / cumulative_return.cummax() - 1).min()\n",
    "\n",
    "print(f\"Cumulative Return: {cumulative_return.iloc[-1]:.2f}x\")\n",
    "print(f\"Sharpe Ratio: {sharpe_ratio:.2f}\")\n",
    "print(f\"Max Drawdown: {max_drawdown:.2%}\")\n"
   ]
  },
  {
   "cell_type": "code",
   "execution_count": 1,
   "id": "893a8265-72b2-49d0-b2c5-6f63b44e291c",
   "metadata": {},
   "outputs": [
    {
     "ename": "NameError",
     "evalue": "name 'data' is not defined",
     "output_type": "error",
     "traceback": [
      "\u001b[31m---------------------------------------------------------------------------\u001b[39m",
      "\u001b[31mNameError\u001b[39m                                 Traceback (most recent call last)",
      "\u001b[36mCell\u001b[39m\u001b[36m \u001b[39m\u001b[32mIn[1]\u001b[39m\u001b[32m, line 4\u001b[39m\n\u001b[32m      1\u001b[39m \u001b[38;5;28;01mimport\u001b[39;00m\u001b[38;5;250m \u001b[39m\u001b[34;01mmatplotlib\u001b[39;00m\u001b[34;01m.\u001b[39;00m\u001b[34;01mpyplot\u001b[39;00m\u001b[38;5;250m \u001b[39m\u001b[38;5;28;01mas\u001b[39;00m\u001b[38;5;250m \u001b[39m\u001b[34;01mplt\u001b[39;00m\n\u001b[32m      3\u001b[39m plt.figure(figsize=(\u001b[32m12\u001b[39m,\u001b[32m6\u001b[39m))\n\u001b[32m----> \u001b[39m\u001b[32m4\u001b[39m plt.plot((\u001b[32m1\u001b[39m + \u001b[43mdata\u001b[49m[\u001b[33m\"\u001b[39m\u001b[33mReturn\u001b[39m\u001b[33m\"\u001b[39m]).cumprod(), label=\u001b[33m\"\u001b[39m\u001b[33mBuy & Hold\u001b[39m\u001b[33m\"\u001b[39m, alpha=\u001b[32m0.7\u001b[39m)\n\u001b[32m      5\u001b[39m plt.plot((\u001b[32m1\u001b[39m + data[\u001b[33m\"\u001b[39m\u001b[33mStrategy_Return\u001b[39m\u001b[33m\"\u001b[39m]).cumprod(), label=\u001b[33m\"\u001b[39m\u001b[33mMA Crossover Strategy\u001b[39m\u001b[33m\"\u001b[39m, alpha=\u001b[32m0.9\u001b[39m)\n\u001b[32m      6\u001b[39m plt.title(\u001b[33m\"\u001b[39m\u001b[33mStrategy vs Buy & Hold\u001b[39m\u001b[33m\"\u001b[39m)\n",
      "\u001b[31mNameError\u001b[39m: name 'data' is not defined"
     ]
    },
    {
     "data": {
      "text/plain": [
       "<Figure size 1200x600 with 0 Axes>"
      ]
     },
     "metadata": {},
     "output_type": "display_data"
    }
   ],
   "source": [
    "import matplotlib.pyplot as plt\n",
    "\n",
    "plt.figure(figsize=(12,6))\n",
    "plt.plot((1 + data[\"Return\"]).cumprod(), label=\"Buy & Hold\", alpha=0.7)\n",
    "plt.plot((1 + data[\"Strategy_Return\"]).cumprod(), label=\"MA Crossover Strategy\", alpha=0.9)\n",
    "plt.title(\"Strategy vs Buy & Hold\")\n",
    "plt.legend()\n",
    "plt.show()\n"
   ]
  },
  {
   "cell_type": "code",
   "execution_count": 6,
   "id": "5a3fd649-9e11-44e4-afbe-68c45f5ddaeb",
   "metadata": {},
   "outputs": [
    {
     "name": "stdout",
     "output_type": "stream",
     "text": [
      "Saved backtest results to /data/\n"
     ]
    }
   ],
   "source": [
    "# Save enriched backtest dataset\n",
    "data.to_csv(\"../data/AAPL_backtest.csv\")\n",
    "\n",
    "# Save cumulative returns separately\n",
    "cumulative_return.to_csv(\"../data/AAPL_cumulative_return.csv\")\n",
    "print(\"Saved backtest results to /data/\")\n"
   ]
  },
  {
   "cell_type": "code",
   "execution_count": null,
   "id": "49cd3813-da60-4c1c-9175-2c16968743e8",
   "metadata": {},
   "outputs": [],
   "source": []
  }
 ],
 "metadata": {
  "kernelspec": {
   "display_name": "Python 3 (ipykernel)",
   "language": "python",
   "name": "python3"
  },
  "language_info": {
   "codemirror_mode": {
    "name": "ipython",
    "version": 3
   },
   "file_extension": ".py",
   "mimetype": "text/x-python",
   "name": "python",
   "nbconvert_exporter": "python",
   "pygments_lexer": "ipython3",
   "version": "3.13.7"
  }
 },
 "nbformat": 4,
 "nbformat_minor": 5
}
