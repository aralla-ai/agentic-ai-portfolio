{
 "cells": [
  {
   "cell_type": "code",
   "execution_count": 1,
   "id": "f71f36e5-2a7a-4e3b-8119-b4954ee73daa",
   "metadata": {},
   "outputs": [],
   "source": [
    "import pandas as pd\n",
    "data = pd.read_csv(\"../data/AAPL_enriched.csv\", index_col=0, parse_dates=True)\n"
   ]
  },
  {
   "cell_type": "code",
   "execution_count": 2,
   "id": "430fc884-f4ae-47f9-886f-9198791fb323",
   "metadata": {},
   "outputs": [],
   "source": [
    "import numpy as np\n",
    "\n",
    "def backtest_sma(df, fast=10, slow=50):\n",
    "    temp = df.copy()\n",
    "    temp[f\"SMA_{fast}\"] = temp[\"Close\"].rolling(fast).mean()\n",
    "    temp[f\"SMA_{slow}\"] = temp[\"Close\"].rolling(slow).mean()\n",
    "    \n",
    "    temp[\"Signal\"] = 0\n",
    "    temp.loc[temp[f\"SMA_{fast}\"] > temp[f\"SMA_{slow}\"], \"Signal\"] = 1\n",
    "    temp.loc[temp[f\"SMA_{fast}\"] < temp[f\"SMA_{slow}\"], \"Signal\"] = -1\n",
    "    temp[\"Position\"] = temp[\"Signal\"].shift(1).fillna(0)\n",
    "    \n",
    "    temp[\"Return\"] = temp[\"Close\"].pct_change()\n",
    "    temp[\"Strategy_Return\"] = temp[\"Position\"] * temp[\"Return\"]\n",
    "    \n",
    "    strat_curve = (1 + temp[\"Strategy_Return\"]).cumprod()\n",
    "    years = (temp.index[-1] - temp.index[0]).days / 365.25\n",
    "    cagr = strat_curve.iloc[-1]**(1/years) - 1\n",
    "    vol = temp[\"Strategy_Return\"].std() * np.sqrt(252)\n",
    "    sharpe = (temp[\"Strategy_Return\"].mean() * 252) / (temp[\"Strategy_Return\"].std() * np.sqrt(252))\n",
    "    roll_max = strat_curve.cummax()\n",
    "    dd = (strat_curve / roll_max - 1).min()\n",
    "    \n",
    "    return {\"Fast\": fast, \"Slow\": slow, \"CAGR\": cagr, \"Volatility\": vol, \"Sharpe\": sharpe, \"MaxDD\": dd}\n"
   ]
  },
  {
   "cell_type": "code",
   "execution_count": 3,
   "id": "b1c8dc64-b57b-481d-bc0d-141cd7a186e2",
   "metadata": {},
   "outputs": [
    {
     "name": "stderr",
     "output_type": "stream",
     "text": [
      "C:\\Users\\adity\\AppData\\Local\\Temp\\ipykernel_3728\\2862344019.py:20: RuntimeWarning: invalid value encountered in scalar divide\n",
      "  sharpe = (temp[\"Strategy_Return\"].mean() * 252) / (temp[\"Strategy_Return\"].std() * np.sqrt(252))\n",
      "C:\\Users\\adity\\AppData\\Local\\Temp\\ipykernel_3728\\2862344019.py:20: RuntimeWarning: invalid value encountered in scalar divide\n",
      "  sharpe = (temp[\"Strategy_Return\"].mean() * 252) / (temp[\"Strategy_Return\"].std() * np.sqrt(252))\n",
      "C:\\Users\\adity\\AppData\\Local\\Temp\\ipykernel_3728\\2862344019.py:20: RuntimeWarning: invalid value encountered in scalar divide\n",
      "  sharpe = (temp[\"Strategy_Return\"].mean() * 252) / (temp[\"Strategy_Return\"].std() * np.sqrt(252))\n",
      "C:\\Users\\adity\\AppData\\Local\\Temp\\ipykernel_3728\\2862344019.py:20: RuntimeWarning: invalid value encountered in scalar divide\n",
      "  sharpe = (temp[\"Strategy_Return\"].mean() * 252) / (temp[\"Strategy_Return\"].std() * np.sqrt(252))\n",
      "C:\\Users\\adity\\AppData\\Local\\Temp\\ipykernel_3728\\2862344019.py:20: RuntimeWarning: invalid value encountered in scalar divide\n",
      "  sharpe = (temp[\"Strategy_Return\"].mean() * 252) / (temp[\"Strategy_Return\"].std() * np.sqrt(252))\n",
      "C:\\Users\\adity\\AppData\\Local\\Temp\\ipykernel_3728\\2862344019.py:20: RuntimeWarning: invalid value encountered in scalar divide\n",
      "  sharpe = (temp[\"Strategy_Return\"].mean() * 252) / (temp[\"Strategy_Return\"].std() * np.sqrt(252))\n"
     ]
    },
    {
     "data": {
      "text/html": [
       "<div>\n",
       "<style scoped>\n",
       "    .dataframe tbody tr th:only-of-type {\n",
       "        vertical-align: middle;\n",
       "    }\n",
       "\n",
       "    .dataframe tbody tr th {\n",
       "        vertical-align: top;\n",
       "    }\n",
       "\n",
       "    .dataframe thead th {\n",
       "        text-align: right;\n",
       "    }\n",
       "</style>\n",
       "<table border=\"1\" class=\"dataframe\">\n",
       "  <thead>\n",
       "    <tr style=\"text-align: right;\">\n",
       "      <th></th>\n",
       "      <th>Fast</th>\n",
       "      <th>Slow</th>\n",
       "      <th>CAGR</th>\n",
       "      <th>Volatility</th>\n",
       "      <th>Sharpe</th>\n",
       "      <th>MaxDD</th>\n",
       "    </tr>\n",
       "  </thead>\n",
       "  <tbody>\n",
       "    <tr>\n",
       "      <th>0</th>\n",
       "      <td>5</td>\n",
       "      <td>50</td>\n",
       "      <td>-0.121856</td>\n",
       "      <td>0.041243</td>\n",
       "      <td>-3.175536</td>\n",
       "      <td>-0.02633</td>\n",
       "    </tr>\n",
       "    <tr>\n",
       "      <th>1</th>\n",
       "      <td>5</td>\n",
       "      <td>100</td>\n",
       "      <td>0.000000</td>\n",
       "      <td>0.000000</td>\n",
       "      <td>NaN</td>\n",
       "      <td>0.00000</td>\n",
       "    </tr>\n",
       "    <tr>\n",
       "      <th>2</th>\n",
       "      <td>5</td>\n",
       "      <td>200</td>\n",
       "      <td>0.000000</td>\n",
       "      <td>0.000000</td>\n",
       "      <td>NaN</td>\n",
       "      <td>0.00000</td>\n",
       "    </tr>\n",
       "    <tr>\n",
       "      <th>3</th>\n",
       "      <td>10</td>\n",
       "      <td>50</td>\n",
       "      <td>-0.121856</td>\n",
       "      <td>0.041243</td>\n",
       "      <td>-3.175536</td>\n",
       "      <td>-0.02633</td>\n",
       "    </tr>\n",
       "    <tr>\n",
       "      <th>4</th>\n",
       "      <td>10</td>\n",
       "      <td>100</td>\n",
       "      <td>0.000000</td>\n",
       "      <td>0.000000</td>\n",
       "      <td>NaN</td>\n",
       "      <td>0.00000</td>\n",
       "    </tr>\n",
       "    <tr>\n",
       "      <th>5</th>\n",
       "      <td>10</td>\n",
       "      <td>200</td>\n",
       "      <td>0.000000</td>\n",
       "      <td>0.000000</td>\n",
       "      <td>NaN</td>\n",
       "      <td>0.00000</td>\n",
       "    </tr>\n",
       "    <tr>\n",
       "      <th>6</th>\n",
       "      <td>20</td>\n",
       "      <td>50</td>\n",
       "      <td>-0.121856</td>\n",
       "      <td>0.041243</td>\n",
       "      <td>-3.175536</td>\n",
       "      <td>-0.02633</td>\n",
       "    </tr>\n",
       "    <tr>\n",
       "      <th>7</th>\n",
       "      <td>20</td>\n",
       "      <td>100</td>\n",
       "      <td>0.000000</td>\n",
       "      <td>0.000000</td>\n",
       "      <td>NaN</td>\n",
       "      <td>0.00000</td>\n",
       "    </tr>\n",
       "    <tr>\n",
       "      <th>8</th>\n",
       "      <td>20</td>\n",
       "      <td>200</td>\n",
       "      <td>0.000000</td>\n",
       "      <td>0.000000</td>\n",
       "      <td>NaN</td>\n",
       "      <td>0.00000</td>\n",
       "    </tr>\n",
       "  </tbody>\n",
       "</table>\n",
       "</div>"
      ],
      "text/plain": [
       "   Fast  Slow      CAGR  Volatility    Sharpe    MaxDD\n",
       "0     5    50 -0.121856    0.041243 -3.175536 -0.02633\n",
       "1     5   100  0.000000    0.000000       NaN  0.00000\n",
       "2     5   200  0.000000    0.000000       NaN  0.00000\n",
       "3    10    50 -0.121856    0.041243 -3.175536 -0.02633\n",
       "4    10   100  0.000000    0.000000       NaN  0.00000\n",
       "5    10   200  0.000000    0.000000       NaN  0.00000\n",
       "6    20    50 -0.121856    0.041243 -3.175536 -0.02633\n",
       "7    20   100  0.000000    0.000000       NaN  0.00000\n",
       "8    20   200  0.000000    0.000000       NaN  0.00000"
      ]
     },
     "execution_count": 3,
     "metadata": {},
     "output_type": "execute_result"
    }
   ],
   "source": [
    "results = []\n",
    "for fast in [5, 10, 20]:\n",
    "    for slow in [50, 100, 200]:\n",
    "        if fast < slow:  # valid only when fast < slow\n",
    "            res = backtest_sma(data, fast, slow)\n",
    "            results.append(res)\n",
    "\n",
    "results_df = pd.DataFrame(results)\n",
    "results_df\n"
   ]
  },
  {
   "cell_type": "code",
   "execution_count": 4,
   "id": "6181d9b4-f57d-41ac-ad9f-9e8fd34a0d18",
   "metadata": {},
   "outputs": [
    {
     "name": "stdout",
     "output_type": "stream",
     "text": [
      "Best Strategy by Sharpe:\n",
      "Fast           5.000000\n",
      "Slow          50.000000\n",
      "CAGR          -0.121856\n",
      "Volatility     0.041243\n",
      "Sharpe        -3.175536\n",
      "MaxDD         -0.026330\n",
      "Name: 0, dtype: float64\n"
     ]
    }
   ],
   "source": [
    "best = results_df.sort_values(\"Sharpe\", ascending=False).iloc[0]\n",
    "print(\"Best Strategy by Sharpe:\")\n",
    "print(best)\n"
   ]
  },
  {
   "cell_type": "code",
   "execution_count": 5,
   "id": "30c4ac0d-ed81-4631-b07e-046fbaeb9484",
   "metadata": {},
   "outputs": [
    {
     "name": "stdout",
     "output_type": "stream",
     "text": [
      "Results saved to /logs/\n"
     ]
    }
   ],
   "source": [
    "import os\n",
    "from datetime import datetime\n",
    "\n",
    "os.makedirs(\"../logs\", exist_ok=True)\n",
    "\n",
    "results_df.to_csv(\"../logs/Day6_multi_strategy_results.csv\", index=False)\n",
    "\n",
    "with open(\"../logs/Day6_best_strategy.txt\", \"w\") as f:\n",
    "    f.write(f\"Run date: {datetime.today().date()}\\n\")\n",
    "    f.write(str(best))\n",
    "    \n",
    "print(\"Results saved to /logs/\")\n"
   ]
  },
  {
   "cell_type": "code",
   "execution_count": null,
   "id": "b2a03e3d-b798-4efb-a1cb-1c3f2a47eac6",
   "metadata": {},
   "outputs": [],
   "source": []
  }
 ],
 "metadata": {
  "kernelspec": {
   "display_name": "Python 3 (ipykernel)",
   "language": "python",
   "name": "python3"
  },
  "language_info": {
   "codemirror_mode": {
    "name": "ipython",
    "version": 3
   },
   "file_extension": ".py",
   "mimetype": "text/x-python",
   "name": "python",
   "nbconvert_exporter": "python",
   "pygments_lexer": "ipython3",
   "version": "3.13.7"
  }
 },
 "nbformat": 4,
 "nbformat_minor": 5
}
