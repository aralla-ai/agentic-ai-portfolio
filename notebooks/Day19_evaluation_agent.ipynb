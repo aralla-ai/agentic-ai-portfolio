{
 "cells": [
  {
   "cell_type": "code",
   "execution_count": null,
   "id": "68936cbd-dd35-4b76-86fe-f61fb894202c",
   "metadata": {},
   "outputs": [],
   "source": []
  }
 ],
 "metadata": {
  "kernelspec": {
   "display_name": "",
   "name": ""
  },
  "language_info": {
   "name": ""
  }
 },
 "nbformat": 4,
 "nbformat_minor": 5
}
