{
 "cells": [
  {
   "cell_type": "code",
   "execution_count": 1,
   "id": "1937a94f-cac4-406a-8c4e-d49a4eedb270",
   "metadata": {},
   "outputs": [],
   "source": [
    "import sys, os\n",
    "sys.path.append(\"..\")\n",
    "\n",
    "import pandas as pd\n",
    "import numpy as np\n",
    "import yfinance as yf  # Yahoo Finance API\n",
    "\n",
    "from agents import MemoryAgent\n"
   ]
  },
  {
   "cell_type": "markdown",
   "id": "1ce09b4a-92c3-4d06-8441-53486c53a45a",
   "metadata": {},
   "source": [
    "BenchmarkAgent fetches historical data for a ticker (SPY, QQQ).\n",
    "\n",
    "Computes metrics (CAGR, Volatility, Sharpe, MaxDD).\n",
    "\n",
    "Returns results to EvaluationAgent or PortfolioManagerAgent."
   ]
  },
  {
   "cell_type": "code",
   "execution_count": 2,
   "id": "e97b8f99-dab6-4f54-9c1c-8282c0d81308",
   "metadata": {},
   "outputs": [],
   "source": [
    "class BenchmarkAgent:\n",
    "    def __init__(self, tickers=[\"SPY\"], start=\"2020-01-01\", end=None):\n",
    "        self.tickers = tickers\n",
    "        self.start = start\n",
    "        self.end = end\n",
    "        self.data = {}\n",
    "    \n",
    "    def fetch(self):\n",
    "        for ticker in self.tickers:\n",
    "            df = yf.download(ticker, start=self.start, end=self.end, progress=False)\n",
    "            df[\"Return\"] = df[\"Close\"].pct_change()\n",
    "            self.data[ticker] = df\n",
    "        return self.data\n",
    "    \n",
    "    def compute_metrics(self, returns):\n",
    "        strat_curve = (1 + returns.fillna(0)).cumprod()\n",
    "        years = (returns.index[-1] - returns.index[0]).days / 365.25\n",
    "        cagr = strat_curve.iloc[-1]**(1/years) - 1 if years > 0 else 0\n",
    "        vol = returns.std() * np.sqrt(252)\n",
    "        sharpe = (returns.mean() * 252) / (returns.std() * np.sqrt(252)) if returns.std() > 0 else 0\n",
    "        roll_max = strat_curve.cummax()\n",
    "        dd = (strat_curve / roll_max - 1).min()\n",
    "        return {\"CAGR\": cagr, \"Volatility\": vol, \"Sharpe\": sharpe, \"MaxDD\": dd}\n",
    "    \n",
    "    def evaluate(self):\n",
    "        metrics = {}\n",
    "        for ticker, df in self.data.items():\n",
    "            metrics[ticker] = self.compute_metrics(df[\"Return\"])\n",
    "        return metrics\n"
   ]
  },
  {
   "cell_type": "code",
   "execution_count": 3,
   "id": "908f27f4-ebdb-462d-bb06-bef4749e9327",
   "metadata": {},
   "outputs": [
    {
     "name": "stderr",
     "output_type": "stream",
     "text": [
      "C:\\Users\\adity\\AppData\\Local\\Temp\\ipykernel_4760\\1295969775.py:10: FutureWarning: YF.download() has changed argument auto_adjust default to True\n",
      "  df = yf.download(ticker, start=self.start, end=self.end, progress=False)\n",
      "C:\\Users\\adity\\AppData\\Local\\Temp\\ipykernel_4760\\1295969775.py:10: FutureWarning: YF.download() has changed argument auto_adjust default to True\n",
      "  df = yf.download(ticker, start=self.start, end=self.end, progress=False)\n"
     ]
    },
    {
     "name": "stdout",
     "output_type": "stream",
     "text": [
      "Benchmark Metrics: {'SPY': {'CAGR': np.float64(0.1480653172202524), 'Volatility': np.float64(0.2111202789584386), 'Sharpe': np.float64(0.7629873333362032), 'MaxDD': np.float64(-0.33717258779070414)}, 'QQQ': {'CAGR': np.float64(0.19858697691313343), 'Volatility': np.float64(0.2568180727789718), 'Sharpe': np.float64(0.8373617774899662), 'MaxDD': np.float64(-0.35118709967260764)}}\n"
     ]
    }
   ],
   "source": [
    "# Example usage\n",
    "bench_agent = BenchmarkAgent(tickers=[\"SPY\", \"QQQ\"], start=\"2020-01-01\")\n",
    "bench_data = bench_agent.fetch()\n",
    "bench_metrics = bench_agent.evaluate()\n",
    "\n",
    "print(\"Benchmark Metrics:\", bench_metrics)\n"
   ]
  },
  {
   "cell_type": "code",
   "execution_count": 4,
   "id": "b536d83b-3da6-46bd-85f9-1e7f88cc6b77",
   "metadata": {},
   "outputs": [],
   "source": [
    "class EvaluationAgent:\n",
    "    def __init__(self, benchmark_agent: BenchmarkAgent, memory: MemoryAgent):\n",
    "        self.benchmark_agent = benchmark_agent\n",
    "        self.memory = memory\n",
    "    \n",
    "    def compute_metrics(self, returns):\n",
    "        strat_curve = (1 + returns.fillna(0)).cumprod()\n",
    "        years = (returns.index[-1] - returns.index[0]).days / 365.25\n",
    "        cagr = strat_curve.iloc[-1]**(1/years) - 1 if years > 0 else 0\n",
    "        vol = returns.std() * np.sqrt(252)\n",
    "        sharpe = (returns.mean() * 252) / (returns.std() * np.sqrt(252)) if returns.std() > 0 else 0\n",
    "        roll_max = strat_curve.cummax()\n",
    "        dd = (strat_curve / roll_max - 1).min()\n",
    "        return {\"CAGR\": cagr, \"Volatility\": vol, \"Sharpe\": sharpe, \"MaxDD\": dd}\n",
    "    \n",
    "    def evaluate(self, portfolio_df):\n",
    "        # Current portfolio\n",
    "        portfolio_metrics = self.compute_metrics(portfolio_df[\"Portfolio_Return\"])\n",
    "        \n",
    "        # Benchmarks\n",
    "        benchmarks = self.benchmark_agent.evaluate()\n",
    "        \n",
    "        # Past performance from memory\n",
    "        history_df = pd.DataFrame(self.memory.history)\n",
    "        if not history_df.empty and \"Metrics\" in history_df.columns:\n",
    "            past_sharpes = [m[\"Sharpe\"] for m in history_df[\"Metrics\"] if m is not None and \"Sharpe\" in m]\n",
    "            avg_past_sharpe = np.mean(past_sharpes) if past_sharpes else 0\n",
    "        else:\n",
    "            avg_past_sharpe = 0\n",
    "        \n",
    "        # Decision: adopt if Sharpe > both benchmark Sharpe and past average\n",
    "        best_benchmark_sharpe = max(m[\"Sharpe\"] for m in benchmarks.values())\n",
    "        decision = \"ADOPT\" if portfolio_metrics[\"Sharpe\"] > best_benchmark_sharpe and portfolio_metrics[\"Sharpe\"] > avg_past_sharpe else \"REJECT\"\n",
    "        \n",
    "        return {\n",
    "            \"Portfolio\": portfolio_metrics,\n",
    "            \"Benchmarks\": benchmarks,\n",
    "            \"Avg_Past_Sharpe\": avg_past_sharpe,\n",
    "            \"Decision\": decision\n",
    "        }\n"
   ]
  },
  {
   "cell_type": "code",
   "execution_count": 5,
   "id": "060472c1-760a-4c44-a507-a991e56ee108",
   "metadata": {},
   "outputs": [
    {
     "name": "stderr",
     "output_type": "stream",
     "text": [
      "C:\\Users\\adity\\AppData\\Local\\Temp\\ipykernel_4760\\1295969775.py:10: FutureWarning: YF.download() has changed argument auto_adjust default to True\n",
      "  df = yf.download(ticker, start=self.start, end=self.end, progress=False)\n",
      "C:\\Users\\adity\\AppData\\Local\\Temp\\ipykernel_4760\\1295969775.py:10: FutureWarning: YF.download() has changed argument auto_adjust default to True\n",
      "  df = yf.download(ticker, start=self.start, end=self.end, progress=False)\n"
     ]
    },
    {
     "name": "stdout",
     "output_type": "stream",
     "text": [
      "Evaluation Result: {'Portfolio': {'CAGR': np.float64(0.1398491088229432), 'Volatility': np.float64(0.04382244081992615), 'Sharpe': np.float64(2.994467401985038), 'MaxDD': np.float64(-0.007035576834643953)}, 'Benchmarks': {'SPY': {'CAGR': np.float64(0.1480592235914533), 'Volatility': np.float64(0.21112017584410203), 'Sharpe': np.float64(0.7629623294112585), 'MaxDD': np.float64(-0.3371727175312037)}, 'QQQ': {'CAGR': np.float64(0.19861079208393662), 'Volatility': np.float64(0.25690704262724), 'Sharpe': np.float64(0.8360326115221827), 'MaxDD': np.float64(-0.35118713836139503)}}, 'Avg_Past_Sharpe': 0, 'Decision': 'ADOPT'}\n"
     ]
    }
   ],
   "source": [
    "# 1. Create BenchmarkAgent and fetch data\n",
    "bench_agent = BenchmarkAgent(tickers=[\"SPY\", \"QQQ\"], start=\"2020-01-01\")\n",
    "bench_agent.fetch()\n",
    "\n",
    "# 2. Load memory (from Day 18 or Day 19 logs)\n",
    "memory = MemoryAgent()\n",
    "history_path = \"../logs/Day18_memory.csv\"\n",
    "if os.path.exists(history_path):\n",
    "    df = pd.read_csv(history_path)\n",
    "    for _, row in df.iterrows():\n",
    "        memory.history.append({\"Strategy\": row[\"Strategy\"], \"Metrics\": None, \"Decision\": row[\"Decision\"], \"Notes\": row[\"Notes\"]})\n",
    "\n",
    "# 3. Create EvaluationAgent\n",
    "evaluator = EvaluationAgent(benchmark_agent=bench_agent, memory=memory)\n",
    "\n",
    "# 4. Evaluate today's portfolio (from Day 18 logs)\n",
    "portfolio = pd.read_csv(\"../logs/Day18_portfolio.csv\", index_col=0, parse_dates=True)\n",
    "eval_result = evaluator.evaluate(portfolio)\n",
    "\n",
    "print(\"Evaluation Result:\", eval_result)\n"
   ]
  },
  {
   "cell_type": "code",
   "execution_count": 6,
   "id": "db4cb104-8671-415f-bd52-4642f74928b4",
   "metadata": {},
   "outputs": [],
   "source": [
    "os.makedirs(\"../logs\", exist_ok=True)\n",
    "\n",
    "eval_result = evaluator.evaluate(portfolio)\n",
    "pd.DataFrame([eval_result]).to_csv(\"../logs/Day20_evaluation.csv\", index=False)\n",
    "\n",
    "with open(\"../logs/Day20_summary.txt\", \"w\") as f:\n",
    "    f.write(\"Day 20 evaluation with BenchmarkAgent\\n\")\n",
    "    f.write(str(eval_result))\n"
   ]
  },
  {
   "cell_type": "code",
   "execution_count": 7,
   "id": "a21b126f-f650-4b06-a68e-a9f36c9e9e15",
   "metadata": {},
   "outputs": [],
   "source": [
    "with open(\"../agents/evaluation_agent.py\", \"w\", encoding=\"utf-8\") as f:\n",
    "    f.write(\"\"\"import pandas as pd\n",
    "import numpy as np\n",
    "\n",
    "class EvaluationAgent:\n",
    "    def __init__(self, benchmark_agent, memory):\n",
    "        self.benchmark_agent = benchmark_agent\n",
    "        self.memory = memory\n",
    "    \n",
    "    def compute_metrics(self, returns):\n",
    "        strat_curve = (1 + returns.fillna(0)).cumprod()\n",
    "        years = (returns.index[-1] - returns.index[0]).days / 365.25\n",
    "        cagr = strat_curve.iloc[-1]**(1/years) - 1 if years > 0 else 0\n",
    "        vol = returns.std() * np.sqrt(252)\n",
    "        sharpe = (returns.mean() * 252) / (returns.std() * np.sqrt(252)) if returns.std() > 0 else 0\n",
    "        roll_max = strat_curve.cummax()\n",
    "        dd = (strat_curve / roll_max - 1).min()\n",
    "        return {\"CAGR\": cagr, \"Volatility\": vol, \"Sharpe\": sharpe, \"MaxDD\": dd}\n",
    "    \n",
    "    def evaluate(self, portfolio_df):\n",
    "        # Current portfolio\n",
    "        portfolio_metrics = self.compute_metrics(portfolio_df[\"Portfolio_Return\"])\n",
    "        \n",
    "        # Benchmarks\n",
    "        benchmarks = self.benchmark_agent.evaluate()\n",
    "        \n",
    "        # Historical averages from memory\n",
    "        history_df = pd.DataFrame(self.memory.history)\n",
    "        if not history_df.empty and \"Metrics\" in history_df.columns:\n",
    "            past_sharpes = [m[\"Sharpe\"] for m in history_df[\"Metrics\"] if m is not None and \"Sharpe\" in m]\n",
    "            avg_past_sharpe = np.mean(past_sharpes) if past_sharpes else 0\n",
    "        else:\n",
    "            avg_past_sharpe = 0\n",
    "        \n",
    "        # Decision: adopt if Sharpe > both benchmark Sharpe and past average\n",
    "        best_benchmark_sharpe = max(m[\"Sharpe\"] for m in benchmarks.values())\n",
    "        decision = \"ADOPT\" if portfolio_metrics[\"Sharpe\"] > best_benchmark_sharpe and portfolio_metrics[\"Sharpe\"] > avg_past_sharpe else \"REJECT\"\n",
    "        \n",
    "        return {\n",
    "            \"Portfolio\": portfolio_metrics,\n",
    "            \"Benchmarks\": benchmarks,\n",
    "            \"Avg_Past_Sharpe\": avg_past_sharpe,\n",
    "            \"Decision\": decision\n",
    "        }\n",
    "\"\"\")\n"
   ]
  },
  {
   "cell_type": "code",
   "execution_count": 8,
   "id": "e56803ca-2227-405b-89ca-23e53125cab4",
   "metadata": {},
   "outputs": [],
   "source": [
    "with open(\"../agents/benchmark_agent.py\", \"w\", encoding=\"utf-8\") as f:\n",
    "    f.write(\"\"\"import pandas as pd\n",
    "import numpy as np\n",
    "import yfinance as yf\n",
    "\n",
    "class BenchmarkAgent:\n",
    "    def __init__(self, tickers=[\"SPY\"], start=\"2020-01-01\", end=None):\n",
    "        self.tickers = tickers\n",
    "        self.start = start\n",
    "        self.end = end\n",
    "        self.data = {}\n",
    "    \n",
    "    def fetch(self):\n",
    "        for ticker in self.tickers:\n",
    "            df = yf.download(ticker, start=self.start, end=self.end, progress=False)\n",
    "            df[\"Return\"] = df[\"Close\"].pct_change()\n",
    "            self.data[ticker] = df\n",
    "        return self.data\n",
    "    \n",
    "    def compute_metrics(self, returns):\n",
    "        strat_curve = (1 + returns.fillna(0)).cumprod()\n",
    "        years = (returns.index[-1] - returns.index[0]).days / 365.25\n",
    "        cagr = strat_curve.iloc[-1]**(1/years) - 1 if years > 0 else 0\n",
    "        vol = returns.std() * np.sqrt(252)\n",
    "        sharpe = (returns.mean() * 252) / (returns.std() * np.sqrt(252)) if returns.std() > 0 else 0\n",
    "        roll_max = strat_curve.cummax()\n",
    "        dd = (strat_curve / roll_max - 1).min()\n",
    "        return {\"CAGR\": cagr, \"Volatility\": vol, \"Sharpe\": sharpe, \"MaxDD\": dd}\n",
    "    \n",
    "    def evaluate(self):\n",
    "        metrics = {}\n",
    "        for ticker, df in self.data.items():\n",
    "            metrics[ticker] = self.compute_metrics(df[\"Return\"])\n",
    "        return metrics\n",
    "\"\"\")\n"
   ]
  },
  {
   "cell_type": "code",
   "execution_count": 9,
   "id": "975afbb6-f923-460b-8bb6-e5df8297d3a1",
   "metadata": {},
   "outputs": [
    {
     "name": "stderr",
     "output_type": "stream",
     "text": [
      "C:\\Users\\adity\\Onedrive\\agentic-ai-portfolio\\notebooks\\..\\agents\\benchmark_agent.py:14: FutureWarning: YF.download() has changed argument auto_adjust default to True\n",
      "  df = yf.download(ticker, start=self.start, end=self.end, progress=False)\n",
      "C:\\Users\\adity\\Onedrive\\agentic-ai-portfolio\\notebooks\\..\\agents\\benchmark_agent.py:14: FutureWarning: YF.download() has changed argument auto_adjust default to True\n",
      "  df = yf.download(ticker, start=self.start, end=self.end, progress=False)\n"
     ]
    },
    {
     "name": "stdout",
     "output_type": "stream",
     "text": [
      "{'Portfolio': {'CAGR': np.float64(0.1398491088229432), 'Volatility': np.float64(0.04382244081992615), 'Sharpe': np.float64(2.994467401985038), 'MaxDD': np.float64(-0.007035576834643953)}, 'Benchmarks': {'SPY': {'CAGR': np.float64(0.148103239121532), 'Volatility': np.float64(0.2111936260039627), 'Sharpe': np.float64(0.7618348905775892), 'MaxDD': np.float64(-0.33717283133592546)}, 'QQQ': {'CAGR': np.float64(0.19859249698414705), 'Volatility': np.float64(0.2568181435984046), 'Sharpe': np.float64(0.8373796535181902), 'MaxDD': np.float64(-0.3511872659425255)}}, 'Avg_Past_Sharpe': 0, 'Decision': 'ADOPT'}\n"
     ]
    }
   ],
   "source": [
    "from agents import BenchmarkAgent, MemoryAgent, EvaluationAgent\n",
    "\n",
    "bench_agent = BenchmarkAgent(tickers=[\"SPY\", \"QQQ\"], start=\"2020-01-01\")\n",
    "bench_agent.fetch()\n",
    "\n",
    "memory = MemoryAgent()\n",
    "portfolio = pd.read_csv(\"../logs/Day18_portfolio.csv\", index_col=0, parse_dates=True)\n",
    "\n",
    "evaluator = EvaluationAgent(benchmark_agent=bench_agent, memory=memory)\n",
    "result = evaluator.evaluate(portfolio)\n",
    "\n",
    "print(result)\n"
   ]
  },
  {
   "cell_type": "code",
   "execution_count": null,
   "id": "bd2838b0-07fe-4b92-9469-b981fb70392b",
   "metadata": {},
   "outputs": [],
   "source": []
  }
 ],
 "metadata": {
  "kernelspec": {
   "display_name": "Python 3 (ipykernel)",
   "language": "python",
   "name": "python3"
  },
  "language_info": {
   "codemirror_mode": {
    "name": "ipython",
    "version": 3
   },
   "file_extension": ".py",
   "mimetype": "text/x-python",
   "name": "python",
   "nbconvert_exporter": "python",
   "pygments_lexer": "ipython3",
   "version": "3.13.7"
  }
 },
 "nbformat": 4,
 "nbformat_minor": 5
}
